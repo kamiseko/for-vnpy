{
 "cells": [
  {
   "cell_type": "code",
   "execution_count": 1,
   "metadata": {
    "collapsed": true,
    "deletable": true,
    "editable": true
   },
   "outputs": [],
   "source": [
    "#!/Tsan/bin/python\n",
    "# -*- coding: utf-8 -*-"
   ]
  },
  {
   "cell_type": "code",
   "execution_count": 125,
   "metadata": {
    "collapsed": false,
    "deletable": true,
    "editable": true
   },
   "outputs": [],
   "source": [
    "# Libraries to use\n",
    "from __future__ import division \n",
    "import numpy as np\n",
    "import pandas as pd\n",
    "import statsmodels.api as sm\n",
    "import matplotlib.pyplot as plt\n",
    "import seaborn as sns\n",
    "from datetime import datetime\n",
    "\n",
    "import mysql.connector \n",
    "import json\n",
    "import collections"
   ]
  },
  {
   "cell_type": "code",
   "execution_count": 127,
   "metadata": {
    "collapsed": true,
    "deletable": true,
    "editable": true
   },
   "outputs": [],
   "source": [
    "import talib as tb"
   ]
  },
  {
   "cell_type": "code",
   "execution_count": 4,
   "metadata": {
    "collapsed": true,
    "deletable": true,
    "editable": true
   },
   "outputs": [],
   "source": [
    "# Import My own library for factor testing\n",
    "from SingleFactorTest import factorFilterFunctions as ff\n",
    "#from config import *"
   ]
  },
  {
   "cell_type": "code",
   "execution_count": 5,
   "metadata": {
    "collapsed": false,
    "deletable": true,
    "editable": true
   },
   "outputs": [],
   "source": [
    "%matplotlib inline\n",
    "%load_ext line_profiler"
   ]
  },
  {
   "cell_type": "code",
   "execution_count": null,
   "metadata": {
    "collapsed": true,
    "deletable": true,
    "editable": true
   },
   "outputs": [],
   "source": []
  },
  {
   "cell_type": "code",
   "execution_count": 6,
   "metadata": {
    "collapsed": true,
    "deletable": true,
    "editable": true
   },
   "outputs": [],
   "source": [
    "# {'600036':u'招商银行','002142':u'宁波银行','601939':u'建设银行','000709':u'河钢股份','000807':u'云铝股份','600111':u'北方稀土',\n",
    "#  '002001':u'新和成','002562':u'兄弟科技','0300121':u'阳谷华泰','600352':u'浙江龙盛','600409':u'三友化工','000636':u'风华高科',\n",
    "#  '000962':u'东方钽业','300228':u'富瑞特装'，'600681':u'百川能源','600789':u'鲁抗医药','002166':u'莱茵生物','002166':u'万华化学',\n",
    "# '000933':u'神火股份','600977':u'中国电影','000802':u'北京文化','600809':u'山西汾酒','600438':u'通威股份','000970':u'中科三环'}"
   ]
  },
  {
   "cell_type": "code",
   "execution_count": 7,
   "metadata": {
    "collapsed": true,
    "deletable": true,
    "editable": true
   },
   "outputs": [],
   "source": [
    "# 股票推荐字典\n",
    "stkdict = {'20170815':['600036','002142','601939'], '20170814':['000709','000807','600111','002001','002562'],\\\n",
    "          '20170810':['300121','600352','600409'], '20170809':['000636','000962'], '20170808':['600803','300228','600681'],\n",
    "          '20170807':['600789','002166','600309'],'20170803':['000933','600977','000802','600809'],\n",
    "          '20170801':['600438'], '20170731':['600438','600111','000970']}"
   ]
  },
  {
   "cell_type": "code",
   "execution_count": 8,
   "metadata": {
    "collapsed": false,
    "deletable": true,
    "editable": true
   },
   "outputs": [],
   "source": [
    "sortedstkdict = collections.OrderedDict(sorted(stkdict.items()))"
   ]
  },
  {
   "cell_type": "code",
   "execution_count": 9,
   "metadata": {
    "collapsed": true,
    "deletable": true,
    "editable": true
   },
   "outputs": [],
   "source": [
    "fileNameClose = 'LZ_CN_STKA_QUOTE_TCLOSE.h5.csv'\n",
    "fileNameOpen = 'LZ_CN_STKA_QUOTE_TOPEN.h5.csv'"
   ]
  },
  {
   "cell_type": "code",
   "execution_count": 10,
   "metadata": {
    "collapsed": true,
    "deletable": true,
    "editable": true
   },
   "outputs": [],
   "source": [
    "path = ff.data_path\n",
    "# Constants\n",
    "startTime =  datetime.strptime('20170731', '%Y%m%d')\n",
    "endTime = datetime.strptime('20170816', '%Y%m%d')"
   ]
  },
  {
   "cell_type": "code",
   "execution_count": 11,
   "metadata": {
    "collapsed": false,
    "deletable": true,
    "editable": true
   },
   "outputs": [
    {
     "ename": "IOError",
     "evalue": "File D:/cStrategy/Factor/LZ_CN_STKA_QUOTE_TOPEN.h5.csv does not exist",
     "output_type": "error",
     "traceback": [
      "\u001b[0;31m---------------------------------------------------------------------------\u001b[0m",
      "\u001b[0;31mIOError\u001b[0m                                   Traceback (most recent call last)",
      "\u001b[0;32m<ipython-input-11-a8e42093d534>\u001b[0m in \u001b[0;36m<module>\u001b[0;34m()\u001b[0m\n\u001b[1;32m      1\u001b[0m \u001b[1;31m# 开盘价\u001b[0m\u001b[1;33m\u001b[0m\u001b[1;33m\u001b[0m\u001b[0m\n\u001b[0;32m----> 2\u001b[0;31m \u001b[0mopenPrice\u001b[0m\u001b[1;33m=\u001b[0m \u001b[0mpd\u001b[0m\u001b[1;33m.\u001b[0m\u001b[0mread_csv\u001b[0m\u001b[1;33m(\u001b[0m\u001b[0mpath\u001b[0m\u001b[1;33m+\u001b[0m\u001b[0mfileNameOpen\u001b[0m\u001b[1;33m,\u001b[0m\u001b[0minfer_datetime_format\u001b[0m\u001b[1;33m=\u001b[0m\u001b[0mTrue\u001b[0m\u001b[1;33m,\u001b[0m\u001b[0mparse_dates\u001b[0m\u001b[1;33m=\u001b[0m\u001b[1;33m[\u001b[0m\u001b[1;36m0\u001b[0m\u001b[1;33m]\u001b[0m\u001b[1;33m,\u001b[0m\u001b[0mindex_col\u001b[0m\u001b[1;33m=\u001b[0m\u001b[1;36m0\u001b[0m\u001b[1;33m)\u001b[0m\u001b[1;33m.\u001b[0m\u001b[0mloc\u001b[0m\u001b[1;33m[\u001b[0m\u001b[0mstartTime\u001b[0m\u001b[1;33m:\u001b[0m\u001b[0mendTime\u001b[0m\u001b[1;33m]\u001b[0m\u001b[1;33m\u001b[0m\u001b[0m\n\u001b[0m\u001b[1;32m      3\u001b[0m \u001b[1;33m\u001b[0m\u001b[0m\n\u001b[1;32m      4\u001b[0m \u001b[0mstkList\u001b[0m \u001b[1;33m=\u001b[0m \u001b[0mmap\u001b[0m\u001b[1;33m(\u001b[0m\u001b[1;32mlambda\u001b[0m \u001b[0mx\u001b[0m\u001b[1;33m:\u001b[0m \u001b[0mx\u001b[0m\u001b[1;33m.\u001b[0m\u001b[0msplit\u001b[0m\u001b[1;33m(\u001b[0m\u001b[1;34m'.'\u001b[0m\u001b[1;33m)\u001b[0m\u001b[1;33m[\u001b[0m\u001b[1;36m0\u001b[0m\u001b[1;33m]\u001b[0m\u001b[1;33m,\u001b[0m\u001b[0mopenPrice\u001b[0m\u001b[1;33m.\u001b[0m\u001b[0mcolumns\u001b[0m\u001b[1;33m[\u001b[0m\u001b[1;36m1\u001b[0m\u001b[1;33m:\u001b[0m\u001b[1;33m]\u001b[0m\u001b[1;33m)\u001b[0m\u001b[1;33m\u001b[0m\u001b[0m\n\u001b[1;32m      5\u001b[0m \u001b[1;33m\u001b[0m\u001b[0m\n",
      "\u001b[0;32mc:\\python27\\lib\\site-packages\\pandas\\io\\parsers.pyc\u001b[0m in \u001b[0;36mparser_f\u001b[0;34m(filepath_or_buffer, sep, delimiter, header, names, index_col, usecols, squeeze, prefix, mangle_dupe_cols, dtype, engine, converters, true_values, false_values, skipinitialspace, skiprows, nrows, na_values, keep_default_na, na_filter, verbose, skip_blank_lines, parse_dates, infer_datetime_format, keep_date_col, date_parser, dayfirst, iterator, chunksize, compression, thousands, decimal, lineterminator, quotechar, quoting, escapechar, comment, encoding, dialect, tupleize_cols, error_bad_lines, warn_bad_lines, skipfooter, skip_footer, doublequote, delim_whitespace, as_recarray, compact_ints, use_unsigned, low_memory, buffer_lines, memory_map, float_precision)\u001b[0m\n\u001b[1;32m    653\u001b[0m                     skip_blank_lines=skip_blank_lines)\n\u001b[1;32m    654\u001b[0m \u001b[1;33m\u001b[0m\u001b[0m\n\u001b[0;32m--> 655\u001b[0;31m         \u001b[1;32mreturn\u001b[0m \u001b[0m_read\u001b[0m\u001b[1;33m(\u001b[0m\u001b[0mfilepath_or_buffer\u001b[0m\u001b[1;33m,\u001b[0m \u001b[0mkwds\u001b[0m\u001b[1;33m)\u001b[0m\u001b[1;33m\u001b[0m\u001b[0m\n\u001b[0m\u001b[1;32m    656\u001b[0m \u001b[1;33m\u001b[0m\u001b[0m\n\u001b[1;32m    657\u001b[0m     \u001b[0mparser_f\u001b[0m\u001b[1;33m.\u001b[0m\u001b[0m__name__\u001b[0m \u001b[1;33m=\u001b[0m \u001b[0mname\u001b[0m\u001b[1;33m\u001b[0m\u001b[0m\n",
      "\u001b[0;32mc:\\python27\\lib\\site-packages\\pandas\\io\\parsers.pyc\u001b[0m in \u001b[0;36m_read\u001b[0;34m(filepath_or_buffer, kwds)\u001b[0m\n\u001b[1;32m    403\u001b[0m \u001b[1;33m\u001b[0m\u001b[0m\n\u001b[1;32m    404\u001b[0m     \u001b[1;31m# Create the parser.\u001b[0m\u001b[1;33m\u001b[0m\u001b[1;33m\u001b[0m\u001b[0m\n\u001b[0;32m--> 405\u001b[0;31m     \u001b[0mparser\u001b[0m \u001b[1;33m=\u001b[0m \u001b[0mTextFileReader\u001b[0m\u001b[1;33m(\u001b[0m\u001b[0mfilepath_or_buffer\u001b[0m\u001b[1;33m,\u001b[0m \u001b[1;33m**\u001b[0m\u001b[0mkwds\u001b[0m\u001b[1;33m)\u001b[0m\u001b[1;33m\u001b[0m\u001b[0m\n\u001b[0m\u001b[1;32m    406\u001b[0m \u001b[1;33m\u001b[0m\u001b[0m\n\u001b[1;32m    407\u001b[0m     \u001b[1;32mif\u001b[0m \u001b[0mchunksize\u001b[0m \u001b[1;32mor\u001b[0m \u001b[0miterator\u001b[0m\u001b[1;33m:\u001b[0m\u001b[1;33m\u001b[0m\u001b[0m\n",
      "\u001b[0;32mc:\\python27\\lib\\site-packages\\pandas\\io\\parsers.pyc\u001b[0m in \u001b[0;36m__init__\u001b[0;34m(self, f, engine, **kwds)\u001b[0m\n\u001b[1;32m    762\u001b[0m             \u001b[0mself\u001b[0m\u001b[1;33m.\u001b[0m\u001b[0moptions\u001b[0m\u001b[1;33m[\u001b[0m\u001b[1;34m'has_index_names'\u001b[0m\u001b[1;33m]\u001b[0m \u001b[1;33m=\u001b[0m \u001b[0mkwds\u001b[0m\u001b[1;33m[\u001b[0m\u001b[1;34m'has_index_names'\u001b[0m\u001b[1;33m]\u001b[0m\u001b[1;33m\u001b[0m\u001b[0m\n\u001b[1;32m    763\u001b[0m \u001b[1;33m\u001b[0m\u001b[0m\n\u001b[0;32m--> 764\u001b[0;31m         \u001b[0mself\u001b[0m\u001b[1;33m.\u001b[0m\u001b[0m_make_engine\u001b[0m\u001b[1;33m(\u001b[0m\u001b[0mself\u001b[0m\u001b[1;33m.\u001b[0m\u001b[0mengine\u001b[0m\u001b[1;33m)\u001b[0m\u001b[1;33m\u001b[0m\u001b[0m\n\u001b[0m\u001b[1;32m    765\u001b[0m \u001b[1;33m\u001b[0m\u001b[0m\n\u001b[1;32m    766\u001b[0m     \u001b[1;32mdef\u001b[0m \u001b[0mclose\u001b[0m\u001b[1;33m(\u001b[0m\u001b[0mself\u001b[0m\u001b[1;33m)\u001b[0m\u001b[1;33m:\u001b[0m\u001b[1;33m\u001b[0m\u001b[0m\n",
      "\u001b[0;32mc:\\python27\\lib\\site-packages\\pandas\\io\\parsers.pyc\u001b[0m in \u001b[0;36m_make_engine\u001b[0;34m(self, engine)\u001b[0m\n\u001b[1;32m    983\u001b[0m     \u001b[1;32mdef\u001b[0m \u001b[0m_make_engine\u001b[0m\u001b[1;33m(\u001b[0m\u001b[0mself\u001b[0m\u001b[1;33m,\u001b[0m \u001b[0mengine\u001b[0m\u001b[1;33m=\u001b[0m\u001b[1;34m'c'\u001b[0m\u001b[1;33m)\u001b[0m\u001b[1;33m:\u001b[0m\u001b[1;33m\u001b[0m\u001b[0m\n\u001b[1;32m    984\u001b[0m         \u001b[1;32mif\u001b[0m \u001b[0mengine\u001b[0m \u001b[1;33m==\u001b[0m \u001b[1;34m'c'\u001b[0m\u001b[1;33m:\u001b[0m\u001b[1;33m\u001b[0m\u001b[0m\n\u001b[0;32m--> 985\u001b[0;31m             \u001b[0mself\u001b[0m\u001b[1;33m.\u001b[0m\u001b[0m_engine\u001b[0m \u001b[1;33m=\u001b[0m \u001b[0mCParserWrapper\u001b[0m\u001b[1;33m(\u001b[0m\u001b[0mself\u001b[0m\u001b[1;33m.\u001b[0m\u001b[0mf\u001b[0m\u001b[1;33m,\u001b[0m \u001b[1;33m**\u001b[0m\u001b[0mself\u001b[0m\u001b[1;33m.\u001b[0m\u001b[0moptions\u001b[0m\u001b[1;33m)\u001b[0m\u001b[1;33m\u001b[0m\u001b[0m\n\u001b[0m\u001b[1;32m    986\u001b[0m         \u001b[1;32melse\u001b[0m\u001b[1;33m:\u001b[0m\u001b[1;33m\u001b[0m\u001b[0m\n\u001b[1;32m    987\u001b[0m             \u001b[1;32mif\u001b[0m \u001b[0mengine\u001b[0m \u001b[1;33m==\u001b[0m \u001b[1;34m'python'\u001b[0m\u001b[1;33m:\u001b[0m\u001b[1;33m\u001b[0m\u001b[0m\n",
      "\u001b[0;32mc:\\python27\\lib\\site-packages\\pandas\\io\\parsers.pyc\u001b[0m in \u001b[0;36m__init__\u001b[0;34m(self, src, **kwds)\u001b[0m\n\u001b[1;32m   1603\u001b[0m         \u001b[0mkwds\u001b[0m\u001b[1;33m[\u001b[0m\u001b[1;34m'allow_leading_cols'\u001b[0m\u001b[1;33m]\u001b[0m \u001b[1;33m=\u001b[0m \u001b[0mself\u001b[0m\u001b[1;33m.\u001b[0m\u001b[0mindex_col\u001b[0m \u001b[1;32mis\u001b[0m \u001b[1;32mnot\u001b[0m \u001b[0mFalse\u001b[0m\u001b[1;33m\u001b[0m\u001b[0m\n\u001b[1;32m   1604\u001b[0m \u001b[1;33m\u001b[0m\u001b[0m\n\u001b[0;32m-> 1605\u001b[0;31m         \u001b[0mself\u001b[0m\u001b[1;33m.\u001b[0m\u001b[0m_reader\u001b[0m \u001b[1;33m=\u001b[0m \u001b[0mparsers\u001b[0m\u001b[1;33m.\u001b[0m\u001b[0mTextReader\u001b[0m\u001b[1;33m(\u001b[0m\u001b[0msrc\u001b[0m\u001b[1;33m,\u001b[0m \u001b[1;33m**\u001b[0m\u001b[0mkwds\u001b[0m\u001b[1;33m)\u001b[0m\u001b[1;33m\u001b[0m\u001b[0m\n\u001b[0m\u001b[1;32m   1606\u001b[0m \u001b[1;33m\u001b[0m\u001b[0m\n\u001b[1;32m   1607\u001b[0m         \u001b[1;31m# XXX\u001b[0m\u001b[1;33m\u001b[0m\u001b[1;33m\u001b[0m\u001b[0m\n",
      "\u001b[0;32mpandas\\_libs\\parsers.pyx\u001b[0m in \u001b[0;36mpandas._libs.parsers.TextReader.__cinit__ (pandas\\_libs\\parsers.c:4209)\u001b[0;34m()\u001b[0m\n",
      "\u001b[0;32mpandas\\_libs\\parsers.pyx\u001b[0m in \u001b[0;36mpandas._libs.parsers.TextReader._setup_parser_source (pandas\\_libs\\parsers.c:8873)\u001b[0;34m()\u001b[0m\n",
      "\u001b[0;31mIOError\u001b[0m: File D:/cStrategy/Factor/LZ_CN_STKA_QUOTE_TOPEN.h5.csv does not exist"
     ]
    }
   ],
   "source": [
    "# 开盘价\n",
    "openPrice= pd.read_csv(path+fileNameOpen,infer_datetime_format=True,parse_dates=[0],index_col=0).loc[startTime:endTime]\n",
    "\n",
    "stkList = map(lambda x: x.split('.')[0],openPrice.columns[1:])\n",
    "\n",
    "openPrice = openPrice.iloc[:,:-1]\n",
    "\n",
    "openPrice.columns = stkList "
   ]
  },
  {
   "cell_type": "code",
   "execution_count": null,
   "metadata": {
    "collapsed": false,
    "deletable": true,
    "editable": true
   },
   "outputs": [],
   "source": [
    "# 收盘价\n",
    "closePrice= pd.read_csv(path+fileNameClose,infer_datetime_format=True,parse_dates=[0],index_col=0).loc[startTime:endTime]\n",
    "\n",
    "stkList = map(lambda x: x.split('.')[0],closePrice.columns[1:])\n",
    "\n",
    "closePrice = closePrice.iloc[:,:-1]\n",
    "\n",
    "closePrice.columns = stkList"
   ]
  },
  {
   "cell_type": "code",
   "execution_count": null,
   "metadata": {
    "collapsed": false,
    "deletable": true,
    "editable": true
   },
   "outputs": [],
   "source": [
    "closePrice"
   ]
  },
  {
   "cell_type": "code",
   "execution_count": null,
   "metadata": {
    "collapsed": false,
    "deletable": true,
    "editable": true
   },
   "outputs": [],
   "source": [
    "InitiCap = 100000  # 初始资金\n",
    "capital = InitiCap  \n",
    "feeRate = 0.0003  # 手续费+冲击成本\n",
    "stampTaxRate = 0.001  # 印花税\n",
    "buyList = []\n",
    "availableCash = {}  # 每天的现金流量\n",
    "# 生成购买的股票池\n",
    "for key,item in sortedstkdict.iteritems():\n",
    "    print key\n",
    "    date = datetime.strptime(key, '%Y%m%d')\n",
    "    totalCostToday = 0  # 当天买入的所有股票的成本\n",
    "    for stk in item:        \n",
    "        buyPrice = round(openPrice.loc[date][stk],2)\n",
    "        amount = 100\n",
    "        cost = round(buyPrice*amount*(1+feeRate),2)\n",
    "        buyList.append([date,stk,buyPrice,amount,cost,1]) # 日期，股票代码，购买价格，购买数量，总cost,方向\n",
    "        totalCostToday+= cost\n",
    "    assert capital > totalCostToday\n",
    "    capital  = capital  - totalCostToday\n",
    "    availableCash[date] = capital  # 买入股票后剩下的资金"
   ]
  },
  {
   "cell_type": "code",
   "execution_count": null,
   "metadata": {
    "collapsed": false,
    "deletable": true,
    "editable": true
   },
   "outputs": [],
   "source": []
  },
  {
   "cell_type": "code",
   "execution_count": null,
   "metadata": {
    "collapsed": false,
    "deletable": true,
    "editable": true
   },
   "outputs": [],
   "source": [
    "availableCash"
   ]
  },
  {
   "cell_type": "code",
   "execution_count": null,
   "metadata": {
    "collapsed": false,
    "deletable": true,
    "editable": true
   },
   "outputs": [],
   "source": [
    "dateList = sorted([datetime.strptime(key, '%Y%m%d') for key in stkdict.keys()])\n",
    "\n",
    "dateList = closePrice.loc[dateList[0]:dateList[-1]].index\n",
    "\n",
    "dateList"
   ]
  },
  {
   "cell_type": "code",
   "execution_count": null,
   "metadata": {
    "collapsed": false,
    "deletable": true,
    "editable": true
   },
   "outputs": [],
   "source": [
    "availableCash"
   ]
  },
  {
   "cell_type": "code",
   "execution_count": null,
   "metadata": {
    "collapsed": false,
    "deletable": true,
    "editable": true
   },
   "outputs": [],
   "source": [
    "availableCashSeries = pd.Series(index = dateList,data = availableCash )\n",
    "\n",
    "availableCashSeries = availableCashSeries.ffill()\n",
    "\n",
    "availableCashSeries"
   ]
  },
  {
   "cell_type": "code",
   "execution_count": null,
   "metadata": {
    "collapsed": false,
    "deletable": true,
    "editable": true
   },
   "outputs": [],
   "source": [
    "availableCashSeries"
   ]
  },
  {
   "cell_type": "code",
   "execution_count": null,
   "metadata": {
    "collapsed": false,
    "deletable": true,
    "editable": true
   },
   "outputs": [],
   "source": [
    "buyList"
   ]
  },
  {
   "cell_type": "code",
   "execution_count": null,
   "metadata": {
    "collapsed": false,
    "deletable": true,
    "editable": true
   },
   "outputs": [],
   "source": [
    "# 简单回测\n",
    "cutwinthreshold = 0.05\n",
    "cutlossthreshold  = -0.05\n",
    "pnldict = {}\n",
    "sellList = []\n",
    "for tradeitem in buyList:\n",
    "    pnl = (closePrice.loc[tradeitem[0]:][tradeitem[1]] - tradeitem[2]) / tradeitem[2]  # 计算每天的pnl\n",
    "    cutwin = pnl[pnl >= cutwinthreshold]\n",
    "    cutloss = pnl[pnl <= cutlossthreshold]\n",
    "    if len(cutwin) > 0:    # 如果达到止盈线，则按当天收盘价止盈\n",
    "        pnldict[tradeitem[1]] = round(cutwin .iloc[0],2)\n",
    "        selldate = cutwin.index[0]\n",
    "        sellPrice = closePrice.loc[selldate][tradeitem[1]]\n",
    "        cost = round(sellPrice*tradeitem[3]*(1-stampTaxRate),2)\n",
    "        sellList.append([selldate,tradeitem[1],round(sellPrice,2),tradeitem[3],cost,-1]) # 卖出list的格式与买入相同\n",
    "        availableCashSeries.loc[selldate:]+= cost   # 记录到资金账户里\n",
    "    elif  len(cutloss) > 0:     #  反之则止损\n",
    "        pnldict[tradeitem[1]] = round(cutloss .iloc[0],2)\n",
    "        selldate = cutloss.index[0]\n",
    "        sellPrice = closePrice.loc[selldate][tradeitem[1]]\n",
    "        cost = round(sellPrice*tradeitem[3]*(1-stampTaxRate),2)\n",
    "        sellList.append([selldate,tradeitem[1],round(sellPrice,2),tradeitem[3],cost,-1]) # 卖出list的格式与买入相同\n",
    "        availableCashSeries.loc[selldate:]+= cost \n",
    "    else:                                   # 没有达到止盈止损线的情况下，按照倒数第二天的收盘价计算pnl\n",
    "        pnldict[tradeitem[1]] = round(pnl.iloc[-2],2)"
   ]
  },
  {
   "cell_type": "code",
   "execution_count": null,
   "metadata": {
    "collapsed": false,
    "deletable": true,
    "editable": true
   },
   "outputs": [],
   "source": [
    "sellList"
   ]
  },
  {
   "cell_type": "code",
   "execution_count": null,
   "metadata": {
    "collapsed": true,
    "deletable": true,
    "editable": true
   },
   "outputs": [],
   "source": [
    "holdingList = list(set([i[1] for i in buyList]) - set([i[1] for i in sellList]))"
   ]
  },
  {
   "cell_type": "code",
   "execution_count": null,
   "metadata": {
    "collapsed": false,
    "deletable": true,
    "editable": true
   },
   "outputs": [],
   "source": [
    "holdingList"
   ]
  },
  {
   "cell_type": "code",
   "execution_count": null,
   "metadata": {
    "collapsed": false,
    "deletable": true,
    "editable": true
   },
   "outputs": [],
   "source": []
  },
  {
   "cell_type": "code",
   "execution_count": null,
   "metadata": {
    "collapsed": false,
    "deletable": true,
    "editable": true
   },
   "outputs": [],
   "source": [
    "selldatepair = {i[1]:i[0] for i in buyList if i[1] in holdingList}\n",
    "selldatepair"
   ]
  },
  {
   "cell_type": "code",
   "execution_count": null,
   "metadata": {
    "collapsed": false,
    "deletable": true,
    "editable": true
   },
   "outputs": [],
   "source": [
    "tempo = closePrice[holdingList]"
   ]
  },
  {
   "cell_type": "code",
   "execution_count": null,
   "metadata": {
    "collapsed": false,
    "deletable": true,
    "editable": true
   },
   "outputs": [],
   "source": [
    "position = tempo.copy()\n",
    "for stk,date in selldatepair.iteritems():\n",
    "    filterCondition = tempo[tempo[stk].index >= date]\n",
    "    falseCondition= tempo[tempo[stk].index  < date]\n",
    "    position.loc[filterCondition.index,stk]= 100\n",
    "    position.loc[falseCondition.index,stk]=  0\n",
    "position"
   ]
  },
  {
   "cell_type": "code",
   "execution_count": null,
   "metadata": {
    "collapsed": false,
    "deletable": true,
    "editable": true
   },
   "outputs": [],
   "source": [
    "marketValue = position*tempo"
   ]
  },
  {
   "cell_type": "code",
   "execution_count": null,
   "metadata": {
    "collapsed": false,
    "deletable": true,
    "editable": true
   },
   "outputs": [],
   "source": [
    "marketValue.sum(axis=1)+availableCashSeries"
   ]
  },
  {
   "cell_type": "code",
   "execution_count": null,
   "metadata": {
    "collapsed": false,
    "deletable": true,
    "editable": true
   },
   "outputs": [],
   "source": [
    "# 计算卖出时得到的资金\n",
    "for sellitem in sellList:\n",
    "    availableCashSeries.loc[sellitem[0]]+= sellitem[-2]\n",
    "availableCashSeries"
   ]
  },
  {
   "cell_type": "code",
   "execution_count": null,
   "metadata": {
    "collapsed": true,
    "deletable": true,
    "editable": true
   },
   "outputs": [],
   "source": [
    "# 合并买卖订单\n",
    "tradingList = buyList + sellList\n",
    "tradingCode = list(set([i[1] for i in buyList]) | set([i[1] for i in sellList]))"
   ]
  },
  {
   "cell_type": "code",
   "execution_count": null,
   "metadata": {
    "collapsed": false,
    "deletable": true,
    "editable": true
   },
   "outputs": [],
   "source": [
    "tradingList"
   ]
  },
  {
   "cell_type": "code",
   "execution_count": null,
   "metadata": {
    "collapsed": false,
    "deletable": true,
    "editable": true
   },
   "outputs": [],
   "source": [
    "# 创建tradingsheet\n",
    "tradingSheet = pd.DataFrame(index = dateList, columns = tradingCode, data=0, dtype = float)\n",
    "\n",
    "for item in tradingList:\n",
    "    tradingSheet .loc[item[0],item[1]]+= item[-1] * item[-3]\n",
    "positionchangeDF = tradingSheet .cumsum().ffill()"
   ]
  },
  {
   "cell_type": "code",
   "execution_count": null,
   "metadata": {
    "collapsed": false,
    "deletable": true,
    "editable": true
   },
   "outputs": [],
   "source": [
    "tradingSheet "
   ]
  },
  {
   "cell_type": "code",
   "execution_count": null,
   "metadata": {
    "collapsed": false,
    "deletable": true,
    "editable": true
   },
   "outputs": [],
   "source": [
    "positionchangeDF"
   ]
  },
  {
   "cell_type": "code",
   "execution_count": null,
   "metadata": {
    "collapsed": false,
    "deletable": true,
    "editable": true
   },
   "outputs": [],
   "source": [
    "# 总资产\n",
    "totalCapital= (positionchangeDF * closePrice[positionchangeDF.columns]).sum(axis=1)+ availableCashSeries"
   ]
  },
  {
   "cell_type": "code",
   "execution_count": null,
   "metadata": {
    "collapsed": false,
    "deletable": true,
    "editable": true
   },
   "outputs": [],
   "source": [
    "totalCapital"
   ]
  },
  {
   "cell_type": "code",
   "execution_count": null,
   "metadata": {
    "collapsed": false,
    "deletable": true,
    "editable": true
   },
   "outputs": [],
   "source": [
    "# 年化收益率\n",
    "annualizedRet = ((totalCapital.iloc[-2] - InitiCap)/ InitiCap +1)**(250/(len(totalCapital)-1)) -1"
   ]
  },
  {
   "cell_type": "code",
   "execution_count": null,
   "metadata": {
    "collapsed": false,
    "deletable": true,
    "editable": true
   },
   "outputs": [],
   "source": [
    "annualizedRet "
   ]
  },
  {
   "cell_type": "code",
   "execution_count": null,
   "metadata": {
    "collapsed": false,
    "deletable": true,
    "editable": true
   },
   "outputs": [],
   "source": [
    "availableCashSeries"
   ]
  },
  {
   "cell_type": "code",
   "execution_count": null,
   "metadata": {
    "collapsed": true,
    "deletable": true,
    "editable": true
   },
   "outputs": [],
   "source": [
    "pnlseries = pd.Series(pnldict)"
   ]
  },
  {
   "cell_type": "code",
   "execution_count": null,
   "metadata": {
    "collapsed": false,
    "deletable": true,
    "editable": true
   },
   "outputs": [],
   "source": [
    "pnlseries.describe()"
   ]
  },
  {
   "cell_type": "code",
   "execution_count": null,
   "metadata": {
    "collapsed": false,
    "deletable": true,
    "editable": true
   },
   "outputs": [],
   "source": [
    "plt.hist(pnlseries)"
   ]
  },
  {
   "cell_type": "code",
   "execution_count": null,
   "metadata": {
    "collapsed": true,
    "deletable": true,
    "editable": true
   },
   "outputs": [],
   "source": [
    "#-----------------------------------------------------Market Timing------------------------------------"
   ]
  },
  {
   "cell_type": "code",
   "execution_count": null,
   "metadata": {
    "collapsed": false,
    "deletable": true,
    "editable": true
   },
   "outputs": [],
   "source": [
    "filenameHS300Member = 'LZ_CN_STKA_INDEX_HS300MEMBER.h5'\n",
    "filenameCSI500Member = 'LZ_CN_STKA_INDEX_CSI500MEMBER.h5'\n",
    "\n",
    "# 复权后价格\n",
    "filenameAdjClose = 'OwnfactorAdjustedClose.h5'"
   ]
  },
  {
   "cell_type": "code",
   "execution_count": null,
   "metadata": {
    "collapsed": false,
    "deletable": true,
    "editable": true
   },
   "outputs": [],
   "source": [
    "teststartTime =  datetime.strptime('20120731', '%Y%m%d')\n",
    "testendTime = datetime.strptime('20171016', '%Y%m%d')"
   ]
  },
  {
   "cell_type": "code",
   "execution_count": null,
   "metadata": {
    "collapsed": true,
    "deletable": true,
    "editable": true
   },
   "outputs": [],
   "source": [
    "def getMemberList(path,filename):\n",
    "    df = ff.readh5data(path,filename).iloc[-1]\n",
    "    return df.loc[df==1].index.tolist()"
   ]
  },
  {
   "cell_type": "code",
   "execution_count": null,
   "metadata": {
    "collapsed": true,
    "deletable": true,
    "editable": true
   },
   "outputs": [],
   "source": [
    "hs300MemberList = getMemberList(path, filenameHS300Member)\n",
    "csi500MemberList = getMemberList(path, filenameCSI500Member)"
   ]
  },
  {
   "cell_type": "code",
   "execution_count": null,
   "metadata": {
    "collapsed": false,
    "deletable": true,
    "editable": true
   },
   "outputs": [],
   "source": [
    "priceData =  ff.readh5data(path,filenameAdjClose).pct_change().dropna(how='all').loc[teststartTime:testendTime]"
   ]
  },
  {
   "cell_type": "code",
   "execution_count": null,
   "metadata": {
    "collapsed": false,
    "deletable": true,
    "editable": true
   },
   "outputs": [],
   "source": [
    "priceData[hs300MemberList].loc[datetime.strptime('20170810', '%Y%m%d')].name"
   ]
  },
  {
   "cell_type": "code",
   "execution_count": null,
   "metadata": {
    "collapsed": false,
    "deletable": true,
    "editable": true
   },
   "outputs": [],
   "source": [
    "priceData[hs300MemberList].loc[datetime.strptime('20170810', '%Y%m%d')].hist()"
   ]
  },
  {
   "cell_type": "code",
   "execution_count": null,
   "metadata": {
    "collapsed": false,
    "deletable": true,
    "editable": true
   },
   "outputs": [],
   "source": [
    "priceData[csi500MemberList].iloc[-2].name"
   ]
  },
  {
   "cell_type": "code",
   "execution_count": null,
   "metadata": {
    "collapsed": true,
    "deletable": true,
    "editable": true
   },
   "outputs": [],
   "source": [
    "#-----------------------------------------------------CTA Backtest Engine------------------------------------"
   ]
  },
  {
   "cell_type": "code",
   "execution_count": null,
   "metadata": {
    "collapsed": true,
    "deletable": true,
    "editable": true
   },
   "outputs": [],
   "source": [
    "def getNewMatrix(inputArray, t, m):\n",
    "    newMatrix = []\n",
    "    n = t-m+1\n",
    "    for i in range(n):\n",
    "        newdata = list(inputArray[i:m+i])\n",
    "        newMatrix.append(newdata)\n",
    "    #newMatrix = np.array(newMatrix).reshape(n,m)\n",
    "    return np.array(newMatrix)\n",
    "\n",
    "def recreateArray(newMatrix,t,m):\n",
    "    ret = []\n",
    "    n = t - m + 1\n",
    "    for p in range(1, t+1):\n",
    "        if p < m:\n",
    "            alpha = p\n",
    "        elif p > t-m+1:\n",
    "            alpha = t-p+1\n",
    "        else:\n",
    "            alpha = m\n",
    "        sigma = 0\n",
    "        for j in range(1, m+1):\n",
    "            i = p - j + 1\n",
    "            if i > 0 and i < n+1:\n",
    "                sigma += newMatrix[i-1][j-1]\n",
    "        ret.append(sigma/alpha)\n",
    "    return np.array(ret)\n",
    "\n",
    "def getSVD(inputArray,t,m):\n",
    "    #print 1\n",
    "    inputmatrix = getNewMatrix(inputArray, t, m)\n",
    "    u, s, v = np.linalg.svd(inputmatrix)\n",
    "    eviNum = 1 if s[0]/s.sum() > 0.99 else 2\n",
    "    sNew = np.zeros((eviNum, eviNum))\n",
    "    np.fill_diagonal(sNew, s[:eviNum])\n",
    "    matrixForts = np.dot(np.dot(u[:, :eviNum].reshape(u.shape[0], eviNum), sNew), v[:eviNum])\n",
    "    #print matrixForts.shape\n",
    "    newts = recreateArray(matrixForts, t, m)\n",
    "    return newts"
   ]
  },
  {
   "cell_type": "code",
   "execution_count": 12,
   "metadata": {
    "collapsed": true,
    "deletable": true,
    "editable": true
   },
   "outputs": [],
   "source": [
    "old_path = 'C:/Users/LZJF_02/Desktop/original_data/'\n",
    "new_path = 'C:/Users/LZJF_02/Desktop/modified_data/'\n",
    "filename = 'rb000_1min.csv'\n",
    "#newname = 'j9000_1min_modi.csv'"
   ]
  },
  {
   "cell_type": "code",
   "execution_count": 13,
   "metadata": {
    "collapsed": false,
    "deletable": true,
    "editable": true
   },
   "outputs": [],
   "source": [
    "startTime =  datetime.strptime('20160110', '%Y%m%d') # 上涨趋势\n",
    "endTime = datetime.strptime('20161107', '%Y%m%d')\n",
    "\n",
    "startTrainTime = datetime.strptime('20150530', '%Y%m%d') \n",
    "endTimeTrain =  datetime.strptime('20160530', '%Y%m%d')\n",
    "\n",
    "startTimeVal = datetime.strptime('20151016', '%Y%m%d')  # 下跌趋势\n",
    "endTimeVal = datetime.strptime('20151123', '%Y%m%d')\n",
    "\n",
    "startTimeSurge =  datetime.strptime('20170606', '%Y%m%d') # 上涨趋势\n",
    "endTimeSurge = datetime.strptime('20170809', '%Y%m%d')\n",
    "\n",
    "startTimePlunge =  datetime.strptime('20170906', '%Y%m%d') # 下跌趋势\n",
    "endTimePlunge = datetime.strptime('20170929', '%Y%m%d')"
   ]
  },
  {
   "cell_type": "code",
   "execution_count": 14,
   "metadata": {
    "collapsed": true,
    "deletable": true,
    "editable": true
   },
   "outputs": [],
   "source": [
    "# svd滤波参数\n",
    "shapeNum = 30\n",
    "svdShort = 7\n",
    "svdLong = 20"
   ]
  },
  {
   "cell_type": "code",
   "execution_count": 15,
   "metadata": {
    "collapsed": false,
    "deletable": true,
    "editable": true
   },
   "outputs": [],
   "source": [
    "# 期货合约相关参数\n",
    "Leverage = 10\n",
    "Slipage = 2\n",
    "ContractSize = 10\n",
    "IniCapital = 100000\n",
    "FeeRate = 0.003\n",
    "PriceTick = 1"
   ]
  },
  {
   "cell_type": "code",
   "execution_count": 16,
   "metadata": {
    "collapsed": true,
    "deletable": true,
    "editable": true
   },
   "outputs": [],
   "source": [
    "data = pd.read_csv(old_path+filename,infer_datetime_format=True,header=None,names = ['Open', 'High', 'Low', 'Close','TotalVolume','OpenInterest'])\n",
    "data.index = data.index.map(lambda x : pd.to_datetime(x))"
   ]
  },
  {
   "cell_type": "code",
   "execution_count": 17,
   "metadata": {
    "collapsed": false,
    "deletable": true,
    "editable": true
   },
   "outputs": [],
   "source": [
    "data['OpenRatio'] = (data['OpenInterest'] - data['OpenInterest'].shift(1)) / data['TotalVolume']"
   ]
  },
  {
   "cell_type": "code",
   "execution_count": 18,
   "metadata": {
    "collapsed": false,
    "deletable": true,
    "editable": true
   },
   "outputs": [
    {
     "data": {
      "text/plain": [
       "Open            3.454000e+03\n",
       "High            3.457000e+03\n",
       "Low             3.452000e+03\n",
       "Close           3.454000e+03\n",
       "TotalVolume     3.324800e+04\n",
       "OpenInterest    4.524026e+06\n",
       "OpenRatio       1.723304e-01\n",
       "Name: 0.85, dtype: float64"
      ]
     },
     "execution_count": 18,
     "metadata": {},
     "output_type": "execute_result"
    }
   ],
   "source": [
    "data.loc[startTime:].describe()\n",
    "data.loc[startTime:].quantile(0.85)"
   ]
  },
  {
   "cell_type": "code",
   "execution_count": 19,
   "metadata": {
    "collapsed": false,
    "deletable": true,
    "editable": true
   },
   "outputs": [
    {
     "data": {
      "text/html": [
       "<div>\n",
       "<style>\n",
       "    .dataframe thead tr:only-child th {\n",
       "        text-align: right;\n",
       "    }\n",
       "\n",
       "    .dataframe thead th {\n",
       "        text-align: left;\n",
       "    }\n",
       "\n",
       "    .dataframe tbody tr th {\n",
       "        vertical-align: top;\n",
       "    }\n",
       "</style>\n",
       "<table border=\"1\" class=\"dataframe\">\n",
       "  <thead>\n",
       "    <tr style=\"text-align: right;\">\n",
       "      <th></th>\n",
       "      <th>Open</th>\n",
       "      <th>High</th>\n",
       "      <th>Low</th>\n",
       "      <th>Close</th>\n",
       "      <th>TotalVolume</th>\n",
       "      <th>OpenInterest</th>\n",
       "      <th>OpenRatio</th>\n",
       "    </tr>\n",
       "  </thead>\n",
       "  <tbody>\n",
       "    <tr>\n",
       "      <th>2017-09-18 11:16:00</th>\n",
       "      <td>3786</td>\n",
       "      <td>3789</td>\n",
       "      <td>3770</td>\n",
       "      <td>3776</td>\n",
       "      <td>56594</td>\n",
       "      <td>4057618</td>\n",
       "      <td>0.105559</td>\n",
       "    </tr>\n",
       "    <tr>\n",
       "      <th>2017-09-18 11:17:00</th>\n",
       "      <td>3775</td>\n",
       "      <td>3779</td>\n",
       "      <td>3771</td>\n",
       "      <td>3771</td>\n",
       "      <td>25718</td>\n",
       "      <td>4061640</td>\n",
       "      <td>0.156389</td>\n",
       "    </tr>\n",
       "    <tr>\n",
       "      <th>2017-09-18 11:18:00</th>\n",
       "      <td>3771</td>\n",
       "      <td>3780</td>\n",
       "      <td>3771</td>\n",
       "      <td>3776</td>\n",
       "      <td>15230</td>\n",
       "      <td>4065086</td>\n",
       "      <td>0.226264</td>\n",
       "    </tr>\n",
       "    <tr>\n",
       "      <th>2017-09-18 11:19:00</th>\n",
       "      <td>3776</td>\n",
       "      <td>3777</td>\n",
       "      <td>3772</td>\n",
       "      <td>3773</td>\n",
       "      <td>9056</td>\n",
       "      <td>4066862</td>\n",
       "      <td>0.196113</td>\n",
       "    </tr>\n",
       "    <tr>\n",
       "      <th>2017-09-18 11:20:00</th>\n",
       "      <td>3773</td>\n",
       "      <td>3773</td>\n",
       "      <td>3764</td>\n",
       "      <td>3766</td>\n",
       "      <td>38662</td>\n",
       "      <td>4072204</td>\n",
       "      <td>0.138172</td>\n",
       "    </tr>\n",
       "    <tr>\n",
       "      <th>2017-09-18 11:21:00</th>\n",
       "      <td>3767</td>\n",
       "      <td>3770</td>\n",
       "      <td>3766</td>\n",
       "      <td>3768</td>\n",
       "      <td>15876</td>\n",
       "      <td>4075438</td>\n",
       "      <td>0.203704</td>\n",
       "    </tr>\n",
       "    <tr>\n",
       "      <th>2017-09-18 11:22:00</th>\n",
       "      <td>3767</td>\n",
       "      <td>3768</td>\n",
       "      <td>3764</td>\n",
       "      <td>3764</td>\n",
       "      <td>18014</td>\n",
       "      <td>4077740</td>\n",
       "      <td>0.127789</td>\n",
       "    </tr>\n",
       "    <tr>\n",
       "      <th>2017-09-18 11:23:00</th>\n",
       "      <td>3763</td>\n",
       "      <td>3765</td>\n",
       "      <td>3759</td>\n",
       "      <td>3763</td>\n",
       "      <td>32302</td>\n",
       "      <td>4083090</td>\n",
       "      <td>0.165624</td>\n",
       "    </tr>\n",
       "    <tr>\n",
       "      <th>2017-09-18 11:24:00</th>\n",
       "      <td>3762</td>\n",
       "      <td>3768</td>\n",
       "      <td>3760</td>\n",
       "      <td>3768</td>\n",
       "      <td>15844</td>\n",
       "      <td>4085922</td>\n",
       "      <td>0.178743</td>\n",
       "    </tr>\n",
       "    <tr>\n",
       "      <th>2017-09-18 11:25:00</th>\n",
       "      <td>3769</td>\n",
       "      <td>3769</td>\n",
       "      <td>3762</td>\n",
       "      <td>3762</td>\n",
       "      <td>12436</td>\n",
       "      <td>4087190</td>\n",
       "      <td>0.101962</td>\n",
       "    </tr>\n",
       "    <tr>\n",
       "      <th>2017-09-18 11:26:00</th>\n",
       "      <td>3762</td>\n",
       "      <td>3766</td>\n",
       "      <td>3761</td>\n",
       "      <td>3763</td>\n",
       "      <td>12268</td>\n",
       "      <td>4089582</td>\n",
       "      <td>0.194979</td>\n",
       "    </tr>\n",
       "    <tr>\n",
       "      <th>2017-09-18 11:27:00</th>\n",
       "      <td>3763</td>\n",
       "      <td>3764</td>\n",
       "      <td>3761</td>\n",
       "      <td>3763</td>\n",
       "      <td>12170</td>\n",
       "      <td>4093248</td>\n",
       "      <td>0.301233</td>\n",
       "    </tr>\n",
       "    <tr>\n",
       "      <th>2017-09-18 11:28:00</th>\n",
       "      <td>3763</td>\n",
       "      <td>3763</td>\n",
       "      <td>3754</td>\n",
       "      <td>3754</td>\n",
       "      <td>27592</td>\n",
       "      <td>4096376</td>\n",
       "      <td>0.113366</td>\n",
       "    </tr>\n",
       "    <tr>\n",
       "      <th>2017-09-18 11:29:00</th>\n",
       "      <td>3754</td>\n",
       "      <td>3764</td>\n",
       "      <td>3754</td>\n",
       "      <td>3764</td>\n",
       "      <td>24468</td>\n",
       "      <td>4101462</td>\n",
       "      <td>0.207863</td>\n",
       "    </tr>\n",
       "    <tr>\n",
       "      <th>2017-09-18 13:30:00</th>\n",
       "      <td>3763</td>\n",
       "      <td>3773</td>\n",
       "      <td>3760</td>\n",
       "      <td>3771</td>\n",
       "      <td>35206</td>\n",
       "      <td>4110392</td>\n",
       "      <td>0.253650</td>\n",
       "    </tr>\n",
       "    <tr>\n",
       "      <th>2017-09-18 13:31:00</th>\n",
       "      <td>3771</td>\n",
       "      <td>3771</td>\n",
       "      <td>3761</td>\n",
       "      <td>3762</td>\n",
       "      <td>14936</td>\n",
       "      <td>4115096</td>\n",
       "      <td>0.314944</td>\n",
       "    </tr>\n",
       "    <tr>\n",
       "      <th>2017-09-18 13:32:00</th>\n",
       "      <td>3762</td>\n",
       "      <td>3768</td>\n",
       "      <td>3762</td>\n",
       "      <td>3766</td>\n",
       "      <td>11528</td>\n",
       "      <td>4118020</td>\n",
       "      <td>0.253643</td>\n",
       "    </tr>\n",
       "    <tr>\n",
       "      <th>2017-09-18 13:33:00</th>\n",
       "      <td>3766</td>\n",
       "      <td>3775</td>\n",
       "      <td>3766</td>\n",
       "      <td>3775</td>\n",
       "      <td>17158</td>\n",
       "      <td>4119222</td>\n",
       "      <td>0.070055</td>\n",
       "    </tr>\n",
       "    <tr>\n",
       "      <th>2017-09-18 13:34:00</th>\n",
       "      <td>3775</td>\n",
       "      <td>3784</td>\n",
       "      <td>3775</td>\n",
       "      <td>3783</td>\n",
       "      <td>27988</td>\n",
       "      <td>4119790</td>\n",
       "      <td>0.020294</td>\n",
       "    </tr>\n",
       "    <tr>\n",
       "      <th>2017-09-18 13:35:00</th>\n",
       "      <td>3783</td>\n",
       "      <td>3790</td>\n",
       "      <td>3780</td>\n",
       "      <td>3790</td>\n",
       "      <td>23382</td>\n",
       "      <td>4119394</td>\n",
       "      <td>-0.016936</td>\n",
       "    </tr>\n",
       "  </tbody>\n",
       "</table>\n",
       "</div>"
      ],
      "text/plain": [
       "                     Open  High   Low  Close  TotalVolume  OpenInterest  \\\n",
       "2017-09-18 11:16:00  3786  3789  3770   3776        56594       4057618   \n",
       "2017-09-18 11:17:00  3775  3779  3771   3771        25718       4061640   \n",
       "2017-09-18 11:18:00  3771  3780  3771   3776        15230       4065086   \n",
       "2017-09-18 11:19:00  3776  3777  3772   3773         9056       4066862   \n",
       "2017-09-18 11:20:00  3773  3773  3764   3766        38662       4072204   \n",
       "2017-09-18 11:21:00  3767  3770  3766   3768        15876       4075438   \n",
       "2017-09-18 11:22:00  3767  3768  3764   3764        18014       4077740   \n",
       "2017-09-18 11:23:00  3763  3765  3759   3763        32302       4083090   \n",
       "2017-09-18 11:24:00  3762  3768  3760   3768        15844       4085922   \n",
       "2017-09-18 11:25:00  3769  3769  3762   3762        12436       4087190   \n",
       "2017-09-18 11:26:00  3762  3766  3761   3763        12268       4089582   \n",
       "2017-09-18 11:27:00  3763  3764  3761   3763        12170       4093248   \n",
       "2017-09-18 11:28:00  3763  3763  3754   3754        27592       4096376   \n",
       "2017-09-18 11:29:00  3754  3764  3754   3764        24468       4101462   \n",
       "2017-09-18 13:30:00  3763  3773  3760   3771        35206       4110392   \n",
       "2017-09-18 13:31:00  3771  3771  3761   3762        14936       4115096   \n",
       "2017-09-18 13:32:00  3762  3768  3762   3766        11528       4118020   \n",
       "2017-09-18 13:33:00  3766  3775  3766   3775        17158       4119222   \n",
       "2017-09-18 13:34:00  3775  3784  3775   3783        27988       4119790   \n",
       "2017-09-18 13:35:00  3783  3790  3780   3790        23382       4119394   \n",
       "\n",
       "                     OpenRatio  \n",
       "2017-09-18 11:16:00   0.105559  \n",
       "2017-09-18 11:17:00   0.156389  \n",
       "2017-09-18 11:18:00   0.226264  \n",
       "2017-09-18 11:19:00   0.196113  \n",
       "2017-09-18 11:20:00   0.138172  \n",
       "2017-09-18 11:21:00   0.203704  \n",
       "2017-09-18 11:22:00   0.127789  \n",
       "2017-09-18 11:23:00   0.165624  \n",
       "2017-09-18 11:24:00   0.178743  \n",
       "2017-09-18 11:25:00   0.101962  \n",
       "2017-09-18 11:26:00   0.194979  \n",
       "2017-09-18 11:27:00   0.301233  \n",
       "2017-09-18 11:28:00   0.113366  \n",
       "2017-09-18 11:29:00   0.207863  \n",
       "2017-09-18 13:30:00   0.253650  \n",
       "2017-09-18 13:31:00   0.314944  \n",
       "2017-09-18 13:32:00   0.253643  \n",
       "2017-09-18 13:33:00   0.070055  \n",
       "2017-09-18 13:34:00   0.020294  \n",
       "2017-09-18 13:35:00  -0.016936  "
      ]
     },
     "execution_count": 19,
     "metadata": {},
     "output_type": "execute_result"
    }
   ],
   "source": [
    "data.tail(20)"
   ]
  },
  {
   "cell_type": "code",
   "execution_count": 20,
   "metadata": {
    "collapsed": false,
    "deletable": true,
    "editable": true
   },
   "outputs": [
    {
     "data": {
      "text/html": [
       "<div>\n",
       "<style>\n",
       "    .dataframe thead tr:only-child th {\n",
       "        text-align: right;\n",
       "    }\n",
       "\n",
       "    .dataframe thead th {\n",
       "        text-align: left;\n",
       "    }\n",
       "\n",
       "    .dataframe tbody tr th {\n",
       "        vertical-align: top;\n",
       "    }\n",
       "</style>\n",
       "<table border=\"1\" class=\"dataframe\">\n",
       "  <thead>\n",
       "    <tr style=\"text-align: right;\">\n",
       "      <th></th>\n",
       "      <th>Open</th>\n",
       "      <th>High</th>\n",
       "      <th>Low</th>\n",
       "      <th>Close</th>\n",
       "      <th>TotalVolume</th>\n",
       "      <th>OpenInterest</th>\n",
       "      <th>OpenRatio</th>\n",
       "    </tr>\n",
       "  </thead>\n",
       "  <tbody>\n",
       "    <tr>\n",
       "      <th>count</th>\n",
       "      <td>576590.000000</td>\n",
       "      <td>576590.000000</td>\n",
       "      <td>576590.000000</td>\n",
       "      <td>576590.000000</td>\n",
       "      <td>576590.000000</td>\n",
       "      <td>5.765900e+05</td>\n",
       "      <td>576589.000000</td>\n",
       "    </tr>\n",
       "    <tr>\n",
       "      <th>mean</th>\n",
       "      <td>3279.472292</td>\n",
       "      <td>3280.876907</td>\n",
       "      <td>3278.048208</td>\n",
       "      <td>3279.472297</td>\n",
       "      <td>11638.035467</td>\n",
       "      <td>2.440778e+06</td>\n",
       "      <td>-0.003634</td>\n",
       "    </tr>\n",
       "    <tr>\n",
       "      <th>std</th>\n",
       "      <td>949.560688</td>\n",
       "      <td>949.722005</td>\n",
       "      <td>949.397871</td>\n",
       "      <td>949.559562</td>\n",
       "      <td>15181.314867</td>\n",
       "      <td>1.293012e+06</td>\n",
       "      <td>0.224045</td>\n",
       "    </tr>\n",
       "    <tr>\n",
       "      <th>min</th>\n",
       "      <td>1617.000000</td>\n",
       "      <td>1618.000000</td>\n",
       "      <td>1616.000000</td>\n",
       "      <td>1617.000000</td>\n",
       "      <td>2.000000</td>\n",
       "      <td>8.376000e+03</td>\n",
       "      <td>-1.638679</td>\n",
       "    </tr>\n",
       "    <tr>\n",
       "      <th>25%</th>\n",
       "      <td>2422.000000</td>\n",
       "      <td>2423.000000</td>\n",
       "      <td>2421.000000</td>\n",
       "      <td>2422.000000</td>\n",
       "      <td>2578.000000</td>\n",
       "      <td>1.345436e+06</td>\n",
       "      <td>-0.130831</td>\n",
       "    </tr>\n",
       "    <tr>\n",
       "      <th>50%</th>\n",
       "      <td>3409.000000</td>\n",
       "      <td>3410.000000</td>\n",
       "      <td>3407.000000</td>\n",
       "      <td>3409.000000</td>\n",
       "      <td>6876.000000</td>\n",
       "      <td>2.478721e+06</td>\n",
       "      <td>0.004251</td>\n",
       "    </tr>\n",
       "    <tr>\n",
       "      <th>75%</th>\n",
       "      <td>4074.000000</td>\n",
       "      <td>4076.000000</td>\n",
       "      <td>4072.000000</td>\n",
       "      <td>4074.000000</td>\n",
       "      <td>14788.000000</td>\n",
       "      <td>3.501908e+06</td>\n",
       "      <td>0.133173</td>\n",
       "    </tr>\n",
       "    <tr>\n",
       "      <th>max</th>\n",
       "      <td>5186.000000</td>\n",
       "      <td>5187.000000</td>\n",
       "      <td>5182.000000</td>\n",
       "      <td>5185.000000</td>\n",
       "      <td>583962.000000</td>\n",
       "      <td>6.040226e+06</td>\n",
       "      <td>1.000000</td>\n",
       "    </tr>\n",
       "  </tbody>\n",
       "</table>\n",
       "</div>"
      ],
      "text/plain": [
       "                Open           High            Low          Close  \\\n",
       "count  576590.000000  576590.000000  576590.000000  576590.000000   \n",
       "mean     3279.472292    3280.876907    3278.048208    3279.472297   \n",
       "std       949.560688     949.722005     949.397871     949.559562   \n",
       "min      1617.000000    1618.000000    1616.000000    1617.000000   \n",
       "25%      2422.000000    2423.000000    2421.000000    2422.000000   \n",
       "50%      3409.000000    3410.000000    3407.000000    3409.000000   \n",
       "75%      4074.000000    4076.000000    4072.000000    4074.000000   \n",
       "max      5186.000000    5187.000000    5182.000000    5185.000000   \n",
       "\n",
       "         TotalVolume  OpenInterest      OpenRatio  \n",
       "count  576590.000000  5.765900e+05  576589.000000  \n",
       "mean    11638.035467  2.440778e+06      -0.003634  \n",
       "std     15181.314867  1.293012e+06       0.224045  \n",
       "min         2.000000  8.376000e+03      -1.638679  \n",
       "25%      2578.000000  1.345436e+06      -0.130831  \n",
       "50%      6876.000000  2.478721e+06       0.004251  \n",
       "75%     14788.000000  3.501908e+06       0.133173  \n",
       "max    583962.000000  6.040226e+06       1.000000  "
      ]
     },
     "execution_count": 20,
     "metadata": {},
     "output_type": "execute_result"
    }
   ],
   "source": [
    "data.describe()"
   ]
  },
  {
   "cell_type": "code",
   "execution_count": 21,
   "metadata": {
    "collapsed": false,
    "deletable": true,
    "editable": true
   },
   "outputs": [],
   "source": [
    "d = {'x': {'b': 10, 'c': 20}, 'y': {'b': '33', 'c': 44,'a':1}}"
   ]
  },
  {
   "cell_type": "code",
   "execution_count": 22,
   "metadata": {
    "collapsed": false,
    "deletable": true,
    "editable": true
   },
   "outputs": [
    {
     "data": {
      "text/plain": [
       "Timestamp('2016-03-08 10:05:00')"
      ]
     },
     "execution_count": 22,
     "metadata": {},
     "output_type": "execute_result"
    }
   ],
   "source": [
    "data['TotalVolume'].idxmax()"
   ]
  },
  {
   "cell_type": "code",
   "execution_count": 23,
   "metadata": {
    "collapsed": false,
    "deletable": true,
    "editable": true
   },
   "outputs": [
    {
     "data": {
      "text/plain": [
       "(1L,)"
      ]
     },
     "execution_count": 23,
     "metadata": {},
     "output_type": "execute_result"
    }
   ],
   "source": [
    "dd=[1,2,3,4.5,-2.3]\n",
    "s =pd.Series(dd)\n",
    "s[s<0].shape"
   ]
  },
  {
   "cell_type": "code",
   "execution_count": 24,
   "metadata": {
    "collapsed": false,
    "deletable": true,
    "editable": true
   },
   "outputs": [
    {
     "ename": "NameError",
     "evalue": "name 'f' is not defined",
     "output_type": "error",
     "traceback": [
      "\u001b[0;31m---------------------------------------------------------------------------\u001b[0m",
      "\u001b[0;31mNameError\u001b[0m                                 Traceback (most recent call last)",
      "\u001b[0;32m<ipython-input-24-19c7529072bd>\u001b[0m in \u001b[0;36m<module>\u001b[0;34m()\u001b[0m\n\u001b[0;32m----> 1\u001b[0;31m \u001b[0mpd\u001b[0m\u001b[1;33m.\u001b[0m\u001b[0mDataFrame\u001b[0m\u001b[1;33m.\u001b[0m\u001b[0mfrom_dict\u001b[0m\u001b[1;33m(\u001b[0m\u001b[0mf\u001b[0m\u001b[1;33m,\u001b[0m\u001b[0morient\u001b[0m\u001b[1;33m=\u001b[0m\u001b[1;34m'index'\u001b[0m\u001b[1;33m)\u001b[0m\u001b[1;33m\u001b[0m\u001b[0m\n\u001b[0m",
      "\u001b[0;31mNameError\u001b[0m: name 'f' is not defined"
     ]
    }
   ],
   "source": [
    "#pd.DataFrame.from_dict(f,orient='index')"
   ]
  },
  {
   "cell_type": "code",
   "execution_count": 176,
   "metadata": {
    "collapsed": false
   },
   "outputs": [
    {
     "data": {
      "text/plain": [
       "1231.0"
      ]
     },
     "execution_count": 176,
     "metadata": {},
     "output_type": "execute_result"
    }
   ],
   "source": [
    "c = u'1,231'.encode('utf-8').split(',')\n",
    "float(c[0] +c[1])"
   ]
  },
  {
   "cell_type": "code",
   "execution_count": 179,
   "metadata": {
    "collapsed": false
   },
   "outputs": [
    {
     "data": {
      "text/plain": [
       "123456.908"
      ]
     },
     "execution_count": 179,
     "metadata": {},
     "output_type": "execute_result"
    }
   ],
   "source": [
    "float(\"123,456.908\".replace(',',''))"
   ]
  },
  {
   "cell_type": "code",
   "execution_count": 25,
   "metadata": {
    "collapsed": false,
    "deletable": true,
    "editable": true
   },
   "outputs": [],
   "source": [
    "dataIndice = data.loc[startTime:endTime]\n",
    "indexby5MIN = filter(lambda x : x.minute % 5 ==0, dataIndice.index)\n",
    "\n",
    "# modify data by customized method\n",
    "#dataIndice = data.loc[startTime:]\n",
    "resultList = []\n",
    "for index, time in enumerate(indexby5MIN):\n",
    "    if index < len(indexby5MIN) - 1:\n",
    "        tempdata = dataIndice.loc[time:indexby5MIN [index+1]].iloc[:-1]\n",
    "        resultdict = {}\n",
    "        resultdict['Open'] = tempdata['Open'].values[0]\n",
    "        resultdict['High'] = tempdata['High'].max()\n",
    "        resultdict['Low'] = tempdata['Low'].min()\n",
    "        resultdict['Close'] = tempdata['Close'].values[-1]\n",
    "        resultdict['TotalVolume'] = tempdata['TotalVolume'].sum()\n",
    "        resultdict['OpenInterest'] = tempdata['OpenInterest'].values[-1]\n",
    "        resultdict['OpenRatio'] = tempdata['OpenRatio'].values[-1]\n",
    "        resultdict['OpenRatioModi'] = (np.sqrt(tempdata['TotalVolume']) * tempdata['OpenRatio'] / \\\n",
    "                                       (np.sqrt(tempdata['TotalVolume']).sum())).mean()\n",
    "        resultdict['time'] = time\n",
    "        resultList.append(resultdict)\n",
    "df = pd.DataFrame(resultList,columns = ['Open','High','Low','Close','TotalVolume','OpenInterest','OpenRatio','time','OpenRatioModi'])  \n",
    "\n",
    "dataClean = df.set_index('time')\n",
    "dataClean['pnl'] = dataClean['Close'].pct_change()\n",
    "dataClean['nextpnl'] = dataClean['pnl'].shift(1)"
   ]
  },
  {
   "cell_type": "code",
   "execution_count": 133,
   "metadata": {
    "collapsed": true
   },
   "outputs": [],
   "source": [
    "np_real_data = np.array(dataClean['Close'].values,dtype='f8')"
   ]
  },
  {
   "cell_type": "code",
   "execution_count": 140,
   "metadata": {
    "collapsed": false
   },
   "outputs": [
    {
     "data": {
      "text/plain": [
       "0.045234543450991919"
      ]
     },
     "execution_count": 140,
     "metadata": {},
     "output_type": "execute_result"
    }
   ],
   "source": [
    "alpha1 = (np.cos(0.707 * np.pi /48) + np.sin(0.707 * np.pi /48) - 1 ) / np.cos(0.707 * np.pi /48)\n",
    "alpha1"
   ]
  },
  {
   "cell_type": "code",
   "execution_count": 146,
   "metadata": {
    "collapsed": false
   },
   "outputs": [],
   "source": [
    "LPPeriod = 20\n",
    "a1 = np.exp(-1.414 * np.pi / LPPeriod) \n",
    "b1 = 2 * a1 * np.cos(1.414 * np.pi /  LPPeriod) \n",
    "c2 = b1\n",
    "c3 = - a1 * a1\n",
    "c1 = 1 - c2 - c3 "
   ]
  },
  {
   "cell_type": "code",
   "execution_count": null,
   "metadata": {
    "collapsed": true
   },
   "outputs": [],
   "source": [
    "HP = np.zeros(close)\n",
    "HP = (1 - alpha1 / 2) ** 2 * (Close - 2 * Close[-1] + Close[-2]) + 2 * (1 - alpha1) * HP[-1] - (1 - alpha1) ** 2 * HP[-2]"
   ]
  },
  {
   "cell_type": "code",
   "execution_count": 154,
   "metadata": {
    "collapsed": false,
    "deletable": true,
    "editable": true
   },
   "outputs": [
    {
     "name": "stderr",
     "output_type": "stream",
     "text": [
      "c:\\python27\\lib\\site-packages\\ipykernel\\__main__.py:2: VisibleDeprecationWarning: boolean index did not match indexed array along dimension 0; dimension is 200 but corresponding boolean dimension is 500\n",
      "  from ipykernel import kernelapp as app\n"
     ]
    },
    {
     "data": {
      "text/plain": [
       "63"
      ]
     },
     "execution_count": 154,
     "metadata": {},
     "output_type": "execute_result"
    }
   ],
   "source": [
    "# Stay long if price is trading above HT_TRENDLINE and stay short if price is trading below HT_TRENDLINE.\n",
    "tb.HT_TRENDLINE(np_real_data[-200:])[np.isnan(tb.HT_TRENDLINE(np_real_data[-500:]))].__len__()"
   ]
  },
  {
   "cell_type": "code",
   "execution_count": 136,
   "metadata": {
    "collapsed": false
   },
   "outputs": [
    {
     "data": {
      "text/plain": [
       "array([        nan,         nan,         nan, ...,  1.00360515,\n",
       "        1.00545756,  1.00777331])"
      ]
     },
     "execution_count": 136,
     "metadata": {},
     "output_type": "execute_result"
    }
   ],
   "source": [
    "np_real_data / tb.HT_TRENDLINE(np_real_data)"
   ]
  },
  {
   "cell_type": "code",
   "execution_count": 165,
   "metadata": {
    "collapsed": false
   },
   "outputs": [
    {
     "data": {
      "text/plain": [
       "True"
      ]
     },
     "execution_count": 165,
     "metadata": {},
     "output_type": "execute_result"
    }
   ],
   "source": [
    "n"
   ]
  },
  {
   "cell_type": "code",
   "execution_count": 43,
   "metadata": {
    "collapsed": false
   },
   "outputs": [
    {
     "data": {
      "text/plain": [
       "array([1759, 1758, 1755, ..., 2731, 2737, 2745], dtype=int64)"
      ]
     },
     "execution_count": 43,
     "metadata": {},
     "output_type": "execute_result"
    }
   ],
   "source": [
    "dataClean.Close.values"
   ]
  },
  {
   "cell_type": "code",
   "execution_count": 27,
   "metadata": {
    "collapsed": false,
    "deletable": true,
    "editable": true
   },
   "outputs": [
    {
     "data": {
      "text/plain": [
       "<matplotlib.axes._subplots.AxesSubplot at 0x3c314f98>"
      ]
     },
     "execution_count": 27,
     "metadata": {},
     "output_type": "execute_result"
    },
    {
     "data": {
      "image/png": "[encoded data removed]",
      "text/plain": [
       "<matplotlib.figure.Figure at 0x368644a8>"
      ]
     },
     "metadata": {},
     "output_type": "display_data"
    }
   ],
   "source": [
    "dataClean[dataClean['OpenRatioModi'] > 0.023]['nextpnl'].hist()"
   ]
  },
  {
   "cell_type": "code",
   "execution_count": 28,
   "metadata": {
    "collapsed": false,
    "deletable": true,
    "editable": true
   },
   "outputs": [
    {
     "data": {
      "text/plain": [
       "3.199237800532039e-05"
      ]
     },
     "execution_count": 28,
     "metadata": {},
     "output_type": "execute_result"
    }
   ],
   "source": [
    "dataClean['pnl'].mean()"
   ]
  },
  {
   "cell_type": "code",
   "execution_count": 29,
   "metadata": {
    "collapsed": false,
    "deletable": true,
    "editable": true
   },
   "outputs": [
    {
     "data": {
      "text/plain": [
       "<matplotlib.legend.Legend at 0x3a43ada0>"
      ]
     },
     "execution_count": 29,
     "metadata": {},
     "output_type": "execute_result"
    },
    {
     "data": {
      "image/png": "[encoded data removed]",
      "text/plain": [
       "<matplotlib.figure.Figure at 0x3d8e97b8>"
      ]
     },
     "metadata": {},
     "output_type": "display_data"
    }
   ],
   "source": [
    "# check the monotonity of pnl filtered by openRatio indicator in bullish market\n",
    "variation = []\n",
    "bullpnlMeanList = []\n",
    "bullpnlMedianList = []\n",
    "x_axis = np.linspace(0,0.03,50)\n",
    "for i in x_axis:\n",
    "    variation.append(i)\n",
    "    bullpnlMeanList.append(dataClean[dataClean['OpenRatioModi'] >= i]['pnl'].mean())\n",
    "    bullpnlMedianList.append(dataClean[dataClean['OpenRatioModi'] >= i]['pnl'].shape[0] / dataClean.shape[0])\n",
    "fig, (ax1,ax2) = plt.subplots(nrows=2,sharex=True,figsize=(16,10))\n",
    "ax1.plot(x_axis,bullpnlMeanList,'blue',label='pnlMean')\n",
    "ax2.plot(x_axis,bullpnlMedianList,'red',label='pnlMedian')\n",
    "ax1.legend()\n",
    "ax2.legend()"
   ]
  },
  {
   "cell_type": "code",
   "execution_count": null,
   "metadata": {
    "collapsed": true,
    "deletable": true,
    "editable": true
   },
   "outputs": [],
   "source": []
  },
  {
   "cell_type": "markdown",
   "metadata": {
    "deletable": true,
    "editable": true
   },
   "source": [
    "新指标做多阈值大概为0.02(0.85左右的分位数)，做空为0.024(0.8的分位数),也可取（0.85的分位数0.0275）"
   ]
  },
  {
   "cell_type": "code",
   "execution_count": 30,
   "metadata": {
    "collapsed": false,
    "deletable": true,
    "editable": true
   },
   "outputs": [
    {
     "data": {
      "text/plain": [
       "array([ 0.16270045,  0.23009319,  0.28180545,  0.32540091])"
      ]
     },
     "execution_count": 30,
     "metadata": {},
     "output_type": "execute_result"
    }
   ],
   "source": [
    "np.sqrt(np.array([1,2,3,4]))/np.sqrt(np.array([1,2,3,4])).sum()"
   ]
  },
  {
   "cell_type": "code",
   "execution_count": 31,
   "metadata": {
    "collapsed": false,
    "deletable": true,
    "editable": true
   },
   "outputs": [
    {
     "data": {
      "text/plain": [
       "<matplotlib.axes._subplots.AxesSubplot at 0x36867780>"
      ]
     },
     "execution_count": 31,
     "metadata": {},
     "output_type": "execute_result"
    },
    {
     "data": {
      "image/png": "[encoded data removed]",
      "text/plain": [
       "<matplotlib.figure.Figure at 0x3c314128>"
      ]
     },
     "metadata": {},
     "output_type": "display_data"
    }
   ],
   "source": [
    "dataClean['OpenRatio'].hist()"
   ]
  },
  {
   "cell_type": "code",
   "execution_count": 32,
   "metadata": {
    "collapsed": false,
    "deletable": true,
    "editable": true
   },
   "outputs": [
    {
     "data": {
      "text/plain": [
       "<matplotlib.axes._subplots.AxesSubplot at 0x3a785e10>"
      ]
     },
     "execution_count": 32,
     "metadata": {},
     "output_type": "execute_result"
    },
    {
     "data": {
      "image/png": "[encoded data removed]",
      "text/plain": [
       "<matplotlib.figure.Figure at 0x3a79a160>"
      ]
     },
     "metadata": {},
     "output_type": "display_data"
    }
   ],
   "source": [
    "dataClean['OpenRatioModi'].hist()"
   ]
  },
  {
   "cell_type": "code",
   "execution_count": 33,
   "metadata": {
    "collapsed": false,
    "deletable": true,
    "editable": true
   },
   "outputs": [
    {
     "name": "stdout",
     "output_type": "stream",
     "text": [
      "0.419395782663\n",
      "0.229712530687\n",
      "0.350891686651\n"
     ]
    }
   ],
   "source": [
    "a,b,c = 10000,3000,7000\n",
    "print np.sqrt(a) / (np.sqrt(a)+np.sqrt(b)+np.sqrt(c))\n",
    "print np.sqrt(b) / (np.sqrt(a)+np.sqrt(b)+np.sqrt(c))\n",
    "print np.sqrt(c) / (np.sqrt(a)+np.sqrt(b)+np.sqrt(c))"
   ]
  },
  {
   "cell_type": "code",
   "execution_count": 34,
   "metadata": {
    "collapsed": false,
    "deletable": true,
    "editable": true
   },
   "outputs": [
    {
     "name": "stdout",
     "output_type": "stream",
     "text": [
      "0.5\n",
      "0.166666666667\n",
      "0.333333333333\n"
     ]
    }
   ],
   "source": [
    "print 3/(1+2+3)\n",
    "print 1/(1+2+3)\n",
    "print 2/(1+2+3)"
   ]
  },
  {
   "cell_type": "code",
   "execution_count": 35,
   "metadata": {
    "collapsed": false,
    "deletable": true,
    "editable": true
   },
   "outputs": [
    {
     "name": "stdout",
     "output_type": "stream",
     "text": [
      "0.353287628147\n",
      "0.307105980215\n",
      "0.339606391638\n"
     ]
    }
   ],
   "source": [
    "print np.log10(a) / (np.log10(a)+np.log10(b)+np.log10(c))\n",
    "print np.log10(b) / (np.log10(a)+np.log10(b)+np.log10(c))\n",
    "print np.log10(c) / (np.log10(a)+np.log10(b)+np.log10(c))"
   ]
  },
  {
   "cell_type": "code",
   "execution_count": 36,
   "metadata": {
    "collapsed": false,
    "deletable": true,
    "editable": true
   },
   "outputs": [
    {
     "name": "stdout",
     "output_type": "stream",
     "text": [
      "0.353287628147\n",
      "0.307105980215\n",
      "0.339606391638\n"
     ]
    }
   ],
   "source": [
    "print np.log(a) / (np.log(a)+np.log(b)+np.log(c))\n",
    "print np.log(b) / (np.log(a)+np.log(b)+np.log(c))\n",
    "print np.log(c) / (np.log(a)+np.log(b)+np.log(c))"
   ]
  },
  {
   "cell_type": "code",
   "execution_count": null,
   "metadata": {
    "collapsed": false,
    "deletable": true,
    "editable": true
   },
   "outputs": [],
   "source": []
  },
  {
   "cell_type": "code",
   "execution_count": null,
   "metadata": {
    "collapsed": false,
    "deletable": true,
    "editable": true,
    "scrolled": true
   },
   "outputs": [],
   "source": []
  },
  {
   "cell_type": "code",
   "execution_count": 37,
   "metadata": {
    "collapsed": false,
    "deletable": true,
    "editable": true
   },
   "outputs": [],
   "source": [
    "#c = data.loc[startTime:].groupby(pd.TimeGrouper(freq='5Min'))"
   ]
  },
  {
   "cell_type": "code",
   "execution_count": 38,
   "metadata": {
    "collapsed": false,
    "deletable": true,
    "editable": true
   },
   "outputs": [],
   "source": [
    "#nlarge = c['TotalVolume'].nlargest()"
   ]
  },
  {
   "cell_type": "code",
   "execution_count": 39,
   "metadata": {
    "collapsed": false,
    "deletable": true,
    "editable": true
   },
   "outputs": [],
   "source": [
    "#nlarge.iloc[:50]"
   ]
  },
  {
   "cell_type": "code",
   "execution_count": 40,
   "metadata": {
    "collapsed": false,
    "deletable": true,
    "editable": true,
    "scrolled": true
   },
   "outputs": [
    {
     "ename": "TypeError",
     "evalue": "'int' object has no attribute '__getitem__'",
     "output_type": "error",
     "traceback": [
      "\u001b[0;31m---------------------------------------------------------------------------\u001b[0m",
      "\u001b[0;31mTypeError\u001b[0m                                 Traceback (most recent call last)",
      "\u001b[0;32m<ipython-input-40-be87cdd29d01>\u001b[0m in \u001b[0;36m<module>\u001b[0;34m()\u001b[0m\n\u001b[1;32m      1\u001b[0m \u001b[1;31m# Rescale openratio by the rank of Volume corresponding trading minute. e.g.Weighing the Open ratio by the order of total volume.\u001b[0m\u001b[1;33m\u001b[0m\u001b[1;33m\u001b[0m\u001b[0m\n\u001b[0;32m----> 2\u001b[0;31m \u001b[0ma\u001b[0m \u001b[1;33m=\u001b[0m \u001b[0mc\u001b[0m\u001b[1;33m[\u001b[0m\u001b[1;34m'TotalVolume'\u001b[0m\u001b[1;33m]\u001b[0m\u001b[1;33m.\u001b[0m\u001b[0mrank\u001b[0m\u001b[1;33m(\u001b[0m\u001b[1;33m)\u001b[0m\u001b[1;33m/\u001b[0m\u001b[1;36m15\u001b[0m \u001b[1;33m*\u001b[0m \u001b[0mdata\u001b[0m\u001b[1;33m[\u001b[0m\u001b[1;34m'OpenRatio'\u001b[0m\u001b[1;33m]\u001b[0m\u001b[1;33m\u001b[0m\u001b[0m\n\u001b[0m\u001b[1;32m      3\u001b[0m \u001b[0mdataslice\u001b[0m \u001b[1;33m=\u001b[0m \u001b[0mdata\u001b[0m\u001b[1;33m.\u001b[0m\u001b[0mloc\u001b[0m\u001b[1;33m[\u001b[0m\u001b[0ma\u001b[0m\u001b[1;33m.\u001b[0m\u001b[0mindex\u001b[0m\u001b[1;33m]\u001b[0m\u001b[1;33m\u001b[0m\u001b[0m\n\u001b[1;32m      4\u001b[0m \u001b[0mdataslice\u001b[0m\u001b[1;33m[\u001b[0m\u001b[1;34m'ModiOR'\u001b[0m\u001b[1;33m]\u001b[0m \u001b[1;33m=\u001b[0m \u001b[0ma\u001b[0m\u001b[1;33m\u001b[0m\u001b[0m\n\u001b[1;32m      5\u001b[0m \u001b[0mdataslice\u001b[0m\u001b[1;33m.\u001b[0m\u001b[0mgroupby\u001b[0m\u001b[1;33m(\u001b[0m\u001b[0mpd\u001b[0m\u001b[1;33m.\u001b[0m\u001b[0mTimeGrouper\u001b[0m\u001b[1;33m(\u001b[0m\u001b[0mfreq\u001b[0m\u001b[1;33m=\u001b[0m\u001b[1;34m'5Min'\u001b[0m\u001b[1;33m)\u001b[0m\u001b[1;33m)\u001b[0m\u001b[1;33m[\u001b[0m\u001b[1;34m'OpenRatio'\u001b[0m\u001b[1;33m]\u001b[0m\u001b[1;33m.\u001b[0m\u001b[0mmean\u001b[0m\u001b[1;33m(\u001b[0m\u001b[1;33m)\u001b[0m\u001b[1;33m.\u001b[0m\u001b[0mdropna\u001b[0m\u001b[1;33m(\u001b[0m\u001b[1;33m)\u001b[0m\u001b[1;33m.\u001b[0m\u001b[0mdescribe\u001b[0m\u001b[1;33m(\u001b[0m\u001b[1;33m)\u001b[0m\u001b[1;33m\u001b[0m\u001b[0m\n",
      "\u001b[0;31mTypeError\u001b[0m: 'int' object has no attribute '__getitem__'"
     ]
    }
   ],
   "source": [
    "# Rescale openratio by the rank of Volume corresponding trading minute. e.g.Weighing the Open ratio by the order of total volume.\n",
    "a = c['TotalVolume'].rank()/15 * data['OpenRatio']  \n",
    "dataslice = data.loc[a.index]\n",
    "dataslice['ModiOR'] = a\n",
    "dataslice.groupby(pd.TimeGrouper(freq='5Min'))['OpenRatio'].mean().dropna().describe()"
   ]
  },
  {
   "cell_type": "code",
   "execution_count": null,
   "metadata": {
    "collapsed": false,
    "deletable": true,
    "editable": true
   },
   "outputs": [],
   "source": [
    "dataslice.groupby(pd.TimeGrouper(freq='5Min'))['OpenRatio'].mean().dropna().hist()"
   ]
  },
  {
   "cell_type": "code",
   "execution_count": null,
   "metadata": {
    "collapsed": false,
    "deletable": true,
    "editable": true
   },
   "outputs": [],
   "source": [
    "dataModi = dataslice.groupby(pd.TimeGrouper(freq='5Min'))['OpenRatio'].mean().dropna()\n",
    "dataModi.quantile(0.85)"
   ]
  },
  {
   "cell_type": "code",
   "execution_count": null,
   "metadata": {
    "collapsed": true,
    "deletable": true,
    "editable": true
   },
   "outputs": [],
   "source": [
    "def resample_data(data,period='5Min'):\n",
    "    # 将一分钟线聚合为5分钟线\n",
    "    databy5min = pd.DataFrame()\n",
    "    groupgenerator = data.groupby(pd.TimeGrouper(freq=period))\n",
    "    databy5min['Open'] = groupgenerator['Open'].first()\n",
    "    databy5min['High'] = groupgenerator['High'].max()\n",
    "    databy5min['Low'] = groupgenerator['Low'].min()\n",
    "    databy5min['Close'] = groupgenerator['Close'].last()\n",
    "    databy5min['TotalVolume'] = groupgenerator['TotalVolume'].sum()\n",
    "    databy5min['OpenInterest'] = groupgenerator['OpenInterest'].last()\n",
    "    databy5min.dropna(axis=0,inplace = True)\n",
    "    return databy5min"
   ]
  },
  {
   "cell_type": "code",
   "execution_count": null,
   "metadata": {
    "collapsed": true,
    "deletable": true,
    "editable": true
   },
   "outputs": [],
   "source": [
    "dfResampled = resample_data(data)"
   ]
  },
  {
   "cell_type": "code",
   "execution_count": null,
   "metadata": {
    "collapsed": false,
    "deletable": true,
    "editable": true
   },
   "outputs": [],
   "source": [
    "dfResampled['OpenRatio'] = (dfResampled['OpenInterest'] - dfResampled['OpenInterest'].shift(1)) / dfResampled['TotalVolume']\n",
    "dfResampled['WeightedOpenRatio'] = (dfResampled['OpenInterest'] - dfResampled['OpenInterest'].shift(1)) / np.sqrt(dfResampled['TotalVolume'])\n",
    "dfResampled['pnl'] = dfResampled['Close'].pct_change()"
   ]
  },
  {
   "cell_type": "code",
   "execution_count": null,
   "metadata": {
    "collapsed": false,
    "deletable": true,
    "editable": true
   },
   "outputs": [],
   "source": [
    "sampleSurge= dfResampled.loc[startTimeSurge:endTimeSurge]\n",
    "sampleSurge['nextpnl'] = sampleSurge['pnl'].shift(-1)"
   ]
  },
  {
   "cell_type": "code",
   "execution_count": null,
   "metadata": {
    "collapsed": false,
    "deletable": true,
    "editable": true
   },
   "outputs": [],
   "source": [
    "sampleSurge"
   ]
  },
  {
   "cell_type": "code",
   "execution_count": null,
   "metadata": {
    "collapsed": false,
    "deletable": true,
    "editable": true
   },
   "outputs": [],
   "source": [
    "samplePlunge = dfResampled.loc[startTimePlunge:endTimePlunge]\n",
    "samplePlunge['nextpnl'] = samplePlunge['pnl'].shift(-1)"
   ]
  },
  {
   "cell_type": "code",
   "execution_count": null,
   "metadata": {
    "collapsed": false,
    "deletable": true,
    "editable": true
   },
   "outputs": [],
   "source": [
    "samplePlunge['OpenRatio'].hist()"
   ]
  },
  {
   "cell_type": "code",
   "execution_count": null,
   "metadata": {
    "collapsed": false,
    "deletable": true,
    "editable": true
   },
   "outputs": [],
   "source": [
    "sampleSurge['nextpnl'].describe()"
   ]
  },
  {
   "cell_type": "code",
   "execution_count": null,
   "metadata": {
    "collapsed": false,
    "deletable": true,
    "editable": true
   },
   "outputs": [],
   "source": [
    "sampleSurge['OpenRatio'].hist()"
   ]
  },
  {
   "cell_type": "code",
   "execution_count": null,
   "metadata": {
    "collapsed": false,
    "deletable": true,
    "editable": true
   },
   "outputs": [],
   "source": [
    "sampleSurge[sampleSurge['OpenRatio'] > .15]['nextpnl'].hist()"
   ]
  },
  {
   "cell_type": "code",
   "execution_count": null,
   "metadata": {
    "collapsed": false,
    "deletable": true,
    "editable": true
   },
   "outputs": [],
   "source": [
    "sampleSurge[sampleSurge['OpenRatio'] > 0.03]['nextpnl'].describe()"
   ]
  },
  {
   "cell_type": "code",
   "execution_count": null,
   "metadata": {
    "collapsed": false,
    "deletable": true,
    "editable": true
   },
   "outputs": [],
   "source": []
  },
  {
   "cell_type": "code",
   "execution_count": null,
   "metadata": {
    "collapsed": false,
    "deletable": true,
    "editable": true,
    "scrolled": false
   },
   "outputs": [],
   "source": [
    "# check the monotonity of pnl filtered by openRatio indicator in bullish market\n",
    "variation = []\n",
    "bullpnlMeanList = []\n",
    "bullpnlMedianList = []\n",
    "for i in np.linspace(0,0.2,40):\n",
    "    variation.append(i)\n",
    "    bullpnlMeanList.append(sampleSurge[sampleSurge['OpenRatio'] >= i]['pnl'].mean())\n",
    "    bullpnlMedianList.append(sampleSurge[sampleSurge['OpenRatio'] >= i].shape[0] / sampleSurge.shape[0])\n",
    "fig, (ax1,ax2) = plt.subplots(nrows=2,sharex=True,figsize=(16,10))\n",
    "ax1.plot(np.linspace(0,0.2,40),bullpnlMeanList,'blue',label='pnlMean')\n",
    "ax2.plot(np.linspace(0,0.2,40),bullpnlMedianList,'red',label='pnlMedian')\n",
    "ax1.legend()\n",
    "ax2.legend()"
   ]
  },
  {
   "cell_type": "code",
   "execution_count": null,
   "metadata": {
    "collapsed": false,
    "deletable": true,
    "editable": true
   },
   "outputs": [],
   "source": [
    "# check the monotonity of pnl filtered by openRatio indicator in bearrih market\n",
    "variation = []\n",
    "bearpnlMeanList = []\n",
    "bearpnlMedianList = []\n",
    "for i in np.linspace(0,0.2,40):\n",
    "    variation.append(i)\n",
    "    bearpnlMeanList.append(samplePlunge[samplePlunge['OpenRatio'] >= i]['nextpnl'].mean())\n",
    "    bearpnlMedianList.append(samplePlunge[samplePlunge['OpenRatio'] >= i].shape[0] / samplePlunge.shape[0])\n",
    "fig, (ax1,ax2) = plt.subplots(nrows=2,sharex=True,figsize=(16,10))\n",
    "ax1.plot(np.linspace(0,0.2,40),bearpnlMeanList,'blue',label='pnlMean')\n",
    "ax2.plot(np.linspace(0,0.2,40),bearpnlMedianList,'red',label='pnlMedian')\n",
    "ax1.legend()\n",
    "ax2.legend()"
   ]
  },
  {
   "cell_type": "code",
   "execution_count": null,
   "metadata": {
    "collapsed": false,
    "deletable": true,
    "editable": true
   },
   "outputs": [],
   "source": []
  },
  {
   "cell_type": "code",
   "execution_count": null,
   "metadata": {
    "collapsed": false,
    "deletable": true,
    "editable": true
   },
   "outputs": [],
   "source": [
    "sampleSurge[sampleSurge['OpenRatio'] >= 0.1]['nextpnl'].hist()"
   ]
  },
  {
   "cell_type": "code",
   "execution_count": null,
   "metadata": {
    "collapsed": false,
    "deletable": true,
    "editable": true
   },
   "outputs": [],
   "source": [
    "pnlMedianList"
   ]
  },
  {
   "cell_type": "code",
   "execution_count": null,
   "metadata": {
    "collapsed": false,
    "deletable": true,
    "editable": true
   },
   "outputs": [],
   "source": [
    "dfResampled['OpenRatio'].loc[startTime:].hist()"
   ]
  },
  {
   "cell_type": "code",
   "execution_count": null,
   "metadata": {
    "collapsed": false,
    "deletable": true,
    "editable": true
   },
   "outputs": [],
   "source": [
    "dfResampled['WeightedOpenRatio'].quantile(0.996)"
   ]
  },
  {
   "cell_type": "code",
   "execution_count": null,
   "metadata": {
    "collapsed": false,
    "deletable": true,
    "editable": true
   },
   "outputs": [],
   "source": [
    "dfResampled[dfResampled['OpenRatio'] > 0].mean()"
   ]
  },
  {
   "cell_type": "code",
   "execution_count": null,
   "metadata": {
    "collapsed": false,
    "deletable": true,
    "editable": true
   },
   "outputs": [],
   "source": [
    "dfResampled['OpenRatio'].tail(500).plot()"
   ]
  },
  {
   "cell_type": "code",
   "execution_count": null,
   "metadata": {
    "collapsed": false,
    "deletable": true,
    "editable": true
   },
   "outputs": [],
   "source": [
    "dfResampled['Close'].tail(30).plot()"
   ]
  },
  {
   "cell_type": "code",
   "execution_count": null,
   "metadata": {
    "collapsed": false,
    "deletable": true,
    "editable": true,
    "scrolled": true
   },
   "outputs": [],
   "source": [
    "dfResampled[['pnl','OpenRatio']].tail(50)"
   ]
  },
  {
   "cell_type": "code",
   "execution_count": null,
   "metadata": {
    "collapsed": false,
    "deletable": true,
    "editable": true
   },
   "outputs": [],
   "source": [
    "len(dfResampled[dfResampled['OpenRatio'] < 0.15]) / len(dfResampled)"
   ]
  },
  {
   "cell_type": "code",
   "execution_count": null,
   "metadata": {
    "collapsed": false,
    "deletable": true,
    "editable": true
   },
   "outputs": [],
   "source": [
    "len(dfResampled[dfResampled['OpenRatio'] < 0]) / len(dfResampled)"
   ]
  },
  {
   "cell_type": "code",
   "execution_count": null,
   "metadata": {
    "collapsed": false,
    "deletable": true,
    "editable": true
   },
   "outputs": [],
   "source": [
    "np.sqrt(0.33*225/5)"
   ]
  },
  {
   "cell_type": "code",
   "execution_count": null,
   "metadata": {
    "collapsed": false,
    "deletable": true,
    "editable": true
   },
   "outputs": [],
   "source": [
    "datatrain = dfResampled.loc[startTrainTime:endTimeTrain]"
   ]
  },
  {
   "cell_type": "code",
   "execution_count": null,
   "metadata": {
    "collapsed": false,
    "deletable": true,
    "editable": true
   },
   "outputs": [],
   "source": [
    "startTime"
   ]
  },
  {
   "cell_type": "code",
   "execution_count": null,
   "metadata": {
    "collapsed": false,
    "deletable": true,
    "editable": true
   },
   "outputs": [],
   "source": [
    "datatrain['EMAOpenRatio'] = talib.EMA(datatrain['OpenRatio'].values, timeperiod=4)\n",
    "\n",
    "datatrain['EMAOpenRatio'].describe()"
   ]
  },
  {
   "cell_type": "code",
   "execution_count": null,
   "metadata": {
    "collapsed": false,
    "deletable": true,
    "editable": true
   },
   "outputs": [],
   "source": [
    "datatrain['OpenRatio'].describe()"
   ]
  },
  {
   "cell_type": "code",
   "execution_count": null,
   "metadata": {
    "collapsed": false,
    "deletable": true,
    "editable": true
   },
   "outputs": [],
   "source": [
    "datatrain['EMAOpenRatio'].quantile(0.92)"
   ]
  },
  {
   "cell_type": "code",
   "execution_count": null,
   "metadata": {
    "collapsed": false,
    "deletable": true,
    "editable": true
   },
   "outputs": [],
   "source": [
    "datatrain['OpenRatio'].quantile(0.9)"
   ]
  },
  {
   "cell_type": "code",
   "execution_count": null,
   "metadata": {
    "collapsed": false,
    "deletable": true,
    "editable": true
   },
   "outputs": [],
   "source": [
    "# show size distribution(quantile plot)\n",
    "fig = plt.figure(figsize=(16,10))\n",
    "# Add a subplot\n",
    "ax = fig.add_subplot(111)\n",
    "datatrain['EMAOpenRatio'].hist(alpha =0.8)\n",
    "datatrain['OpenRatio'].hist(alpha = 0.3)\n",
    "ax.set_title(ax.get_title(),alpha=0.7, fontsize=25)"
   ]
  },
  {
   "cell_type": "code",
   "execution_count": null,
   "metadata": {
    "collapsed": false,
    "deletable": true,
    "editable": true
   },
   "outputs": [],
   "source": [
    "datatrain['EMAOpenRatio'].hist()\n",
    "datatrain['OpenRatio'].hist(alpha = 0.3)"
   ]
  },
  {
   "cell_type": "code",
   "execution_count": null,
   "metadata": {
    "collapsed": false,
    "deletable": true,
    "editable": true
   },
   "outputs": [],
   "source": [
    "datatrain['OpenRatio'].describe()"
   ]
  },
  {
   "cell_type": "code",
   "execution_count": null,
   "metadata": {
    "collapsed": false,
    "deletable": true,
    "editable": true
   },
   "outputs": [],
   "source": []
  },
  {
   "cell_type": "code",
   "execution_count": null,
   "metadata": {
    "collapsed": false,
    "deletable": true,
    "editable": true
   },
   "outputs": [],
   "source": [
    "dfResampled['Close'].plot(figsize=(18,12))"
   ]
  },
  {
   "cell_type": "code",
   "execution_count": null,
   "metadata": {
    "collapsed": true,
    "deletable": true,
    "editable": true
   },
   "outputs": [],
   "source": [
    "shapeNum = 20"
   ]
  },
  {
   "cell_type": "code",
   "execution_count": null,
   "metadata": {
    "collapsed": false,
    "deletable": true,
    "editable": true
   },
   "outputs": [],
   "source": [
    "svdindicator = getSVD(datatrain['Close'].values[-shapeNum:], shapeNum, svdShort)"
   ]
  },
  {
   "cell_type": "code",
   "execution_count": null,
   "metadata": {
    "collapsed": false,
    "deletable": true,
    "editable": true
   },
   "outputs": [],
   "source": []
  },
  {
   "cell_type": "code",
   "execution_count": null,
   "metadata": {
    "collapsed": false,
    "deletable": true,
    "editable": true
   },
   "outputs": [],
   "source": [
    "svdindicator1 = getSVD(datatrain['Close'].values[-shapeNum:], shapeNum, svdLong)\n",
    "svdindicator1"
   ]
  },
  {
   "cell_type": "code",
   "execution_count": null,
   "metadata": {
    "collapsed": false,
    "deletable": true,
    "editable": true
   },
   "outputs": [],
   "source": [
    "fig, (ax1, ax2) = plt.subplots(nrows=2, sharex=True,figsize=(16,10))\n",
    "ax1.plot(datatrain.index[-shapeNum:],datatrain['Close'].values[-shapeNum:],'blue',label='Close')\n",
    "ax2.plot(datatrain.index[-shapeNum:],svdindicator,'green',)\n",
    "ax2.plot(datatrain.index[-shapeNum:],svdindicator1,'black')\n",
    "#ax1.title('SVD')"
   ]
  },
  {
   "cell_type": "code",
   "execution_count": null,
   "metadata": {
    "collapsed": false,
    "deletable": true,
    "editable": true
   },
   "outputs": [],
   "source": [
    "fig, (ax1, ax2) = plt.subplots(nrows=2, sharex=True,figsize=(22,16))\n",
    "ax1.plot(datatrain['Close'].values[-shapeNum:],'blue',label='Close')\n",
    "ax2.plot(svdindicator,'red',label='svd-'+str(svdShort))\n",
    "ax2.plot(svdindicator1,'yellow',label='svd-'+str(svdLong))\n",
    "#ax1.title('SVD')\n",
    "ax1.legend()\n",
    "ax2.legend()"
   ]
  },
  {
   "cell_type": "code",
   "execution_count": null,
   "metadata": {
    "collapsed": false,
    "deletable": true,
    "editable": true,
    "scrolled": true
   },
   "outputs": [],
   "source": [
    "datatrain['Close'].plot(figsize=(18,12))"
   ]
  },
  {
   "cell_type": "code",
   "execution_count": null,
   "metadata": {
    "collapsed": false,
    "deletable": true,
    "editable": true
   },
   "outputs": [],
   "source": [
    "#kvol.median()"
   ]
  },
  {
   "cell_type": "code",
   "execution_count": null,
   "metadata": {
    "collapsed": true,
    "deletable": true,
    "editable": true
   },
   "outputs": [],
   "source": [
    "kvol = (datatrain['Close'] - datatrain['Close'].shift(1)).rolling(min_periods=60,window=60,center=False).std()"
   ]
  },
  {
   "cell_type": "code",
   "execution_count": null,
   "metadata": {
    "collapsed": false,
    "deletable": true,
    "editable": true,
    "scrolled": true
   },
   "outputs": [],
   "source": [
    "kvol.iloc[-100:].plot(figsize=(18,12))\n",
    "((7*datatrain['Close']/datatrain['Close'].iloc[0]).iloc[-100:]).plot(sharex=True)"
   ]
  },
  {
   "cell_type": "code",
   "execution_count": null,
   "metadata": {
    "collapsed": false,
    "deletable": true,
    "editable": true
   },
   "outputs": [],
   "source": [
    "datatrain['Close'].iloc[-500:].plot(figsize=(18,12))"
   ]
  },
  {
   "cell_type": "code",
   "execution_count": null,
   "metadata": {
    "collapsed": false,
    "deletable": true,
    "editable": true
   },
   "outputs": [],
   "source": [
    "datatrain['Impact'] = (datatrain['Close'] - datatrain['Open']) / datatrain['TotalVolume']   "
   ]
  },
  {
   "cell_type": "code",
   "execution_count": null,
   "metadata": {
    "collapsed": false,
    "deletable": true,
    "editable": true
   },
   "outputs": [],
   "source": [
    "datatrain['Impact'].iloc[-55:].plot(figsize=(18,12))"
   ]
  },
  {
   "cell_type": "code",
   "execution_count": null,
   "metadata": {
    "collapsed": false,
    "deletable": true,
    "editable": true
   },
   "outputs": [],
   "source": []
  },
  {
   "cell_type": "code",
   "execution_count": null,
   "metadata": {
    "collapsed": false,
    "deletable": true,
    "editable": true
   },
   "outputs": [],
   "source": [
    "datatrain['TotalVolume'].iloc[-55:].mean()"
   ]
  },
  {
   "cell_type": "code",
   "execution_count": null,
   "metadata": {
    "collapsed": false,
    "deletable": true,
    "editable": true
   },
   "outputs": [],
   "source": [
    "datatrain[datatrain['Impact']>0]"
   ]
  },
  {
   "cell_type": "code",
   "execution_count": null,
   "metadata": {
    "collapsed": false,
    "deletable": true,
    "editable": true
   },
   "outputs": [],
   "source": [
    "filtered = datatrain[(datatrain['TotalVolume']<datatrain['TotalVolume'].quantile(0.2)) & (datatrain['Impact']>((datatrain[datatrain['Impact']>0]['Impact']).quantile(0.7)))]"
   ]
  },
  {
   "cell_type": "code",
   "execution_count": null,
   "metadata": {
    "collapsed": false,
    "deletable": true,
    "editable": true
   },
   "outputs": [],
   "source": [
    "filtered"
   ]
  },
  {
   "cell_type": "code",
   "execution_count": null,
   "metadata": {
    "collapsed": false,
    "deletable": true,
    "editable": true
   },
   "outputs": [],
   "source": [
    "datatrain.iloc[:2]"
   ]
  },
  {
   "cell_type": "code",
   "execution_count": null,
   "metadata": {
    "collapsed": false,
    "deletable": true,
    "editable": true
   },
   "outputs": [],
   "source": [
    "filtered['Close'].plot(figsize=(18,10))"
   ]
  },
  {
   "cell_type": "code",
   "execution_count": null,
   "metadata": {
    "collapsed": true,
    "deletable": true,
    "editable": true
   },
   "outputs": [],
   "source": [
    "trackBackPeriod = 50\n",
    "code = 'rb000' \n",
    "initialNum = 100"
   ]
  },
  {
   "cell_type": "code",
   "execution_count": null,
   "metadata": {
    "collapsed": true,
    "deletable": true,
    "editable": true
   },
   "outputs": [],
   "source": []
  },
  {
   "cell_type": "code",
   "execution_count": null,
   "metadata": {
    "collapsed": false,
    "deletable": true,
    "editable": true
   },
   "outputs": [],
   "source": [
    "futurebuyList = []\n",
    "for i in range(initialNum,len(datatrain)-1):\n",
    "    svdshortArray = getSVD(datatrain['Close'].values[i+1-trackBackPeriod:i+1], trackBackPeriod, svdShort)\n",
    "    svdlongArray = getSVD(datatrain['Close'].values[i+1-trackBackPeriod:i+1], trackBackPeriod, svdLong)\n",
    "    if svdshortArray[-2] < svdlongArray[-2] and svdshortArray[-1] > svdlongArray[-1]:\n",
    "        dfslice = datatrain.iloc[i+1]\n",
    "        amount = 1\n",
    "        price = dfslice['Open']\n",
    "        cost = price * amount\n",
    "        direction = 1\n",
    "        futurebuyList.append([dfslice.name,code,price,amount,cost,direction])"
   ]
  },
  {
   "cell_type": "code",
   "execution_count": null,
   "metadata": {
    "collapsed": false,
    "deletable": true,
    "editable": true
   },
   "outputs": [],
   "source": [
    "futurebuyList"
   ]
  },
  {
   "cell_type": "code",
   "execution_count": null,
   "metadata": {
    "collapsed": false,
    "deletable": true,
    "editable": true
   },
   "outputs": [],
   "source": []
  },
  {
   "cell_type": "code",
   "execution_count": 105,
   "metadata": {
    "collapsed": false,
    "deletable": true,
    "editable": true
   },
   "outputs": [],
   "source": [
    "filefullname = 'C:/Users/LZJF_02/Desktop/temp.xlsx'"
   ]
  },
  {
   "cell_type": "code",
   "execution_count": 106,
   "metadata": {
    "collapsed": false
   },
   "outputs": [],
   "source": [
    "xls = pd.ExcelFile(filefullname)\n",
    "df1 = xls.parse('file',header=0,index_col=0,parse_dates=True)"
   ]
  },
  {
   "cell_type": "code",
   "execution_count": 116,
   "metadata": {
    "collapsed": false
   },
   "outputs": [],
   "source": [
    "df = df1.dropna(how='all',axis=1)\n",
    "df=df.dropna(axis=0)\n",
    "df.columns = ['open','high','low',u'贵州茅台','amount','volume','hs300',u'白酒指数']\n",
    "df = df[[u'贵州茅台',u'白酒指数']]\n",
    "df=df.dropna(axis=0)\n",
    "df.index.name  = 'time'"
   ]
  },
  {
   "cell_type": "code",
   "execution_count": 117,
   "metadata": {
    "collapsed": false
   },
   "outputs": [
    {
     "data": {
      "text/html": [
       "<div>\n",
       "<style>\n",
       "    .dataframe thead tr:only-child th {\n",
       "        text-align: right;\n",
       "    }\n",
       "\n",
       "    .dataframe thead th {\n",
       "        text-align: left;\n",
       "    }\n",
       "\n",
       "    .dataframe tbody tr th {\n",
       "        vertical-align: top;\n",
       "    }\n",
       "</style>\n",
       "<table border=\"1\" class=\"dataframe\">\n",
       "  <thead>\n",
       "    <tr style=\"text-align: right;\">\n",
       "      <th></th>\n",
       "      <th>贵州茅台</th>\n",
       "      <th>白酒指数</th>\n",
       "    </tr>\n",
       "    <tr>\n",
       "      <th>time</th>\n",
       "      <th></th>\n",
       "      <th></th>\n",
       "    </tr>\n",
       "  </thead>\n",
       "  <tbody>\n",
       "    <tr>\n",
       "      <th>2004-12-31 00:00:00</th>\n",
       "      <td>8.38</td>\n",
       "      <td>1000.00</td>\n",
       "    </tr>\n",
       "    <tr>\n",
       "      <th>2005-01-04 00:00:00</th>\n",
       "      <td>8.34</td>\n",
       "      <td>983.44</td>\n",
       "    </tr>\n",
       "    <tr>\n",
       "      <th>2005-01-05 00:00:00</th>\n",
       "      <td>8.52</td>\n",
       "      <td>998.04</td>\n",
       "    </tr>\n",
       "    <tr>\n",
       "      <th>2005-01-06 00:00:00</th>\n",
       "      <td>8.37</td>\n",
       "      <td>989.37</td>\n",
       "    </tr>\n",
       "    <tr>\n",
       "      <th>2005-01-07 00:00:00</th>\n",
       "      <td>8.44</td>\n",
       "      <td>997.57</td>\n",
       "    </tr>\n",
       "    <tr>\n",
       "      <th>2005-01-10 00:00:00</th>\n",
       "      <td>8.75</td>\n",
       "      <td>1014.30</td>\n",
       "    </tr>\n",
       "    <tr>\n",
       "      <th>2005-01-11 00:00:00</th>\n",
       "      <td>8.76</td>\n",
       "      <td>1017.21</td>\n",
       "    </tr>\n",
       "    <tr>\n",
       "      <th>2005-01-12 00:00:00</th>\n",
       "      <td>8.78</td>\n",
       "      <td>1017.29</td>\n",
       "    </tr>\n",
       "    <tr>\n",
       "      <th>2005-01-13 00:00:00</th>\n",
       "      <td>8.83</td>\n",
       "      <td>1015.72</td>\n",
       "    </tr>\n",
       "    <tr>\n",
       "      <th>2005-01-14 00:00:00</th>\n",
       "      <td>8.67</td>\n",
       "      <td>1010.15</td>\n",
       "    </tr>\n",
       "    <tr>\n",
       "      <th>2005-01-17 00:00:00</th>\n",
       "      <td>8.67</td>\n",
       "      <td>994.76</td>\n",
       "    </tr>\n",
       "    <tr>\n",
       "      <th>2005-01-18 00:00:00</th>\n",
       "      <td>8.80</td>\n",
       "      <td>1007.14</td>\n",
       "    </tr>\n",
       "    <tr>\n",
       "      <th>2005-01-19 00:00:00</th>\n",
       "      <td>8.67</td>\n",
       "      <td>1002.66</td>\n",
       "    </tr>\n",
       "    <tr>\n",
       "      <th>2005-01-20 00:00:00</th>\n",
       "      <td>8.67</td>\n",
       "      <td>990.12</td>\n",
       "    </tr>\n",
       "    <tr>\n",
       "      <th>2005-01-21 00:00:00</th>\n",
       "      <td>8.67</td>\n",
       "      <td>1009.99</td>\n",
       "    </tr>\n",
       "    <tr>\n",
       "      <th>2005-01-24 00:00:00</th>\n",
       "      <td>8.75</td>\n",
       "      <td>1019.32</td>\n",
       "    </tr>\n",
       "    <tr>\n",
       "      <th>2005-01-25 00:00:00</th>\n",
       "      <td>9.01</td>\n",
       "      <td>1032.88</td>\n",
       "    </tr>\n",
       "    <tr>\n",
       "      <th>2005-01-26 00:00:00</th>\n",
       "      <td>9.01</td>\n",
       "      <td>1028.75</td>\n",
       "    </tr>\n",
       "    <tr>\n",
       "      <th>2005-01-27 00:00:00</th>\n",
       "      <td>8.97</td>\n",
       "      <td>1012.42</td>\n",
       "    </tr>\n",
       "    <tr>\n",
       "      <th>2005-01-28 00:00:00</th>\n",
       "      <td>8.94</td>\n",
       "      <td>1014.37</td>\n",
       "    </tr>\n",
       "    <tr>\n",
       "      <th>2005-01-31 00:00:00</th>\n",
       "      <td>9.00</td>\n",
       "      <td>1013.07</td>\n",
       "    </tr>\n",
       "    <tr>\n",
       "      <th>2005-02-01 00:00:00</th>\n",
       "      <td>8.92</td>\n",
       "      <td>1007.23</td>\n",
       "    </tr>\n",
       "    <tr>\n",
       "      <th>2005-02-02 00:00:00</th>\n",
       "      <td>9.11</td>\n",
       "      <td>1042.80</td>\n",
       "    </tr>\n",
       "    <tr>\n",
       "      <th>2005-02-03 00:00:00</th>\n",
       "      <td>9.00</td>\n",
       "      <td>1026.61</td>\n",
       "    </tr>\n",
       "    <tr>\n",
       "      <th>2005-02-04 00:00:00</th>\n",
       "      <td>9.07</td>\n",
       "      <td>1036.95</td>\n",
       "    </tr>\n",
       "    <tr>\n",
       "      <th>2005-02-16 00:00:00</th>\n",
       "      <td>9.11</td>\n",
       "      <td>1038.59</td>\n",
       "    </tr>\n",
       "    <tr>\n",
       "      <th>2005-02-17 00:00:00</th>\n",
       "      <td>8.92</td>\n",
       "      <td>1038.30</td>\n",
       "    </tr>\n",
       "    <tr>\n",
       "      <th>2005-02-18 00:00:00</th>\n",
       "      <td>8.98</td>\n",
       "      <td>1026.77</td>\n",
       "    </tr>\n",
       "    <tr>\n",
       "      <th>2005-02-21 00:00:00</th>\n",
       "      <td>9.22</td>\n",
       "      <td>1045.06</td>\n",
       "    </tr>\n",
       "    <tr>\n",
       "      <th>2005-02-22 00:00:00</th>\n",
       "      <td>9.24</td>\n",
       "      <td>1057.40</td>\n",
       "    </tr>\n",
       "    <tr>\n",
       "      <th>...</th>\n",
       "      <td>...</td>\n",
       "      <td>...</td>\n",
       "    </tr>\n",
       "    <tr>\n",
       "      <th>2017-10-25 00:00:00</th>\n",
       "      <td>565.67</td>\n",
       "      <td>24653.24</td>\n",
       "    </tr>\n",
       "    <tr>\n",
       "      <th>2017-10-26 00:00:00</th>\n",
       "      <td>605.09</td>\n",
       "      <td>25671.48</td>\n",
       "    </tr>\n",
       "    <tr>\n",
       "      <th>2017-10-27 00:00:00</th>\n",
       "      <td>649.63</td>\n",
       "      <td>26899.15</td>\n",
       "    </tr>\n",
       "    <tr>\n",
       "      <th>2017-10-30 00:00:00</th>\n",
       "      <td>622.08</td>\n",
       "      <td>26230.02</td>\n",
       "    </tr>\n",
       "    <tr>\n",
       "      <th>2017-10-31 00:00:00</th>\n",
       "      <td>618.03</td>\n",
       "      <td>26102.88</td>\n",
       "    </tr>\n",
       "    <tr>\n",
       "      <th>2017-11-01 00:00:00</th>\n",
       "      <td>623.01</td>\n",
       "      <td>26328.94</td>\n",
       "    </tr>\n",
       "    <tr>\n",
       "      <th>2017-11-02 00:00:00</th>\n",
       "      <td>626.92</td>\n",
       "      <td>26555.80</td>\n",
       "    </tr>\n",
       "    <tr>\n",
       "      <th>2017-11-03 00:00:00</th>\n",
       "      <td>639.17</td>\n",
       "      <td>26860.32</td>\n",
       "    </tr>\n",
       "    <tr>\n",
       "      <th>2017-11-06 00:00:00</th>\n",
       "      <td>653.06</td>\n",
       "      <td>27615.56</td>\n",
       "    </tr>\n",
       "    <tr>\n",
       "      <th>2017-11-07 00:00:00</th>\n",
       "      <td>642.07</td>\n",
       "      <td>27370.96</td>\n",
       "    </tr>\n",
       "    <tr>\n",
       "      <th>2017-11-08 00:00:00</th>\n",
       "      <td>650.38</td>\n",
       "      <td>27400.20</td>\n",
       "    </tr>\n",
       "    <tr>\n",
       "      <th>2017-11-09 00:00:00</th>\n",
       "      <td>650.07</td>\n",
       "      <td>27509.60</td>\n",
       "    </tr>\n",
       "    <tr>\n",
       "      <th>2017-11-10 00:00:00</th>\n",
       "      <td>677.95</td>\n",
       "      <td>28532.22</td>\n",
       "    </tr>\n",
       "    <tr>\n",
       "      <th>2017-11-13 00:00:00</th>\n",
       "      <td>687.88</td>\n",
       "      <td>28617.41</td>\n",
       "    </tr>\n",
       "    <tr>\n",
       "      <th>2017-11-14 00:00:00</th>\n",
       "      <td>678.75</td>\n",
       "      <td>27983.82</td>\n",
       "    </tr>\n",
       "    <tr>\n",
       "      <th>2017-11-15 00:00:00</th>\n",
       "      <td>688.08</td>\n",
       "      <td>28553.16</td>\n",
       "    </tr>\n",
       "    <tr>\n",
       "      <th>2017-11-16 00:00:00</th>\n",
       "      <td>719.11</td>\n",
       "      <td>29538.21</td>\n",
       "    </tr>\n",
       "    <tr>\n",
       "      <th>2017-11-17 00:00:00</th>\n",
       "      <td>690.25</td>\n",
       "      <td>28611.32</td>\n",
       "    </tr>\n",
       "    <tr>\n",
       "      <th>2017-11-20 00:00:00</th>\n",
       "      <td>679.15</td>\n",
       "      <td>28129.15</td>\n",
       "    </tr>\n",
       "    <tr>\n",
       "      <th>2017-11-21 00:00:00</th>\n",
       "      <td>677.25</td>\n",
       "      <td>28473.68</td>\n",
       "    </tr>\n",
       "    <tr>\n",
       "      <th>2017-11-22 00:00:00</th>\n",
       "      <td>650.52</td>\n",
       "      <td>27438.76</td>\n",
       "    </tr>\n",
       "    <tr>\n",
       "      <th>2017-11-23 00:00:00</th>\n",
       "      <td>633.73</td>\n",
       "      <td>26310.06</td>\n",
       "    </tr>\n",
       "    <tr>\n",
       "      <th>2017-11-24 00:00:00</th>\n",
       "      <td>630.04</td>\n",
       "      <td>26292.58</td>\n",
       "    </tr>\n",
       "    <tr>\n",
       "      <th>2017-11-27 00:00:00</th>\n",
       "      <td>621.29</td>\n",
       "      <td>25912.52</td>\n",
       "    </tr>\n",
       "    <tr>\n",
       "      <th>2017-11-28 00:00:00</th>\n",
       "      <td>648.23</td>\n",
       "      <td>26599.25</td>\n",
       "    </tr>\n",
       "    <tr>\n",
       "      <th>2017-11-29 00:00:00</th>\n",
       "      <td>638.12</td>\n",
       "      <td>26031.74</td>\n",
       "    </tr>\n",
       "    <tr>\n",
       "      <th>2017-11-30 00:00:00</th>\n",
       "      <td>631.00</td>\n",
       "      <td>25735.33</td>\n",
       "    </tr>\n",
       "    <tr>\n",
       "      <th>2017-12-01 00:00:00</th>\n",
       "      <td>622.35</td>\n",
       "      <td>25598.49</td>\n",
       "    </tr>\n",
       "    <tr>\n",
       "      <th>2017-12-04 00:00:00</th>\n",
       "      <td>637.79</td>\n",
       "      <td>26386.29</td>\n",
       "    </tr>\n",
       "    <tr>\n",
       "      <th>2017-12-05 00:00:00</th>\n",
       "      <td>643.02</td>\n",
       "      <td>26366.45</td>\n",
       "    </tr>\n",
       "  </tbody>\n",
       "</table>\n",
       "<p>3142 rows × 2 columns</p>\n",
       "</div>"
      ],
      "text/plain": [
       "                       贵州茅台      白酒指数\n",
       "time                                 \n",
       "2004-12-31 00:00:00    8.38   1000.00\n",
       "2005-01-04 00:00:00    8.34    983.44\n",
       "2005-01-05 00:00:00    8.52    998.04\n",
       "2005-01-06 00:00:00    8.37    989.37\n",
       "2005-01-07 00:00:00    8.44    997.57\n",
       "2005-01-10 00:00:00    8.75   1014.30\n",
       "2005-01-11 00:00:00    8.76   1017.21\n",
       "2005-01-12 00:00:00    8.78   1017.29\n",
       "2005-01-13 00:00:00    8.83   1015.72\n",
       "2005-01-14 00:00:00    8.67   1010.15\n",
       "2005-01-17 00:00:00    8.67    994.76\n",
       "2005-01-18 00:00:00    8.80   1007.14\n",
       "2005-01-19 00:00:00    8.67   1002.66\n",
       "2005-01-20 00:00:00    8.67    990.12\n",
       "2005-01-21 00:00:00    8.67   1009.99\n",
       "2005-01-24 00:00:00    8.75   1019.32\n",
       "2005-01-25 00:00:00    9.01   1032.88\n",
       "2005-01-26 00:00:00    9.01   1028.75\n",
       "2005-01-27 00:00:00    8.97   1012.42\n",
       "2005-01-28 00:00:00    8.94   1014.37\n",
       "2005-01-31 00:00:00    9.00   1013.07\n",
       "2005-02-01 00:00:00    8.92   1007.23\n",
       "2005-02-02 00:00:00    9.11   1042.80\n",
       "2005-02-03 00:00:00    9.00   1026.61\n",
       "2005-02-04 00:00:00    9.07   1036.95\n",
       "2005-02-16 00:00:00    9.11   1038.59\n",
       "2005-02-17 00:00:00    8.92   1038.30\n",
       "2005-02-18 00:00:00    8.98   1026.77\n",
       "2005-02-21 00:00:00    9.22   1045.06\n",
       "2005-02-22 00:00:00    9.24   1057.40\n",
       "...                     ...       ...\n",
       "2017-10-25 00:00:00  565.67  24653.24\n",
       "2017-10-26 00:00:00  605.09  25671.48\n",
       "2017-10-27 00:00:00  649.63  26899.15\n",
       "2017-10-30 00:00:00  622.08  26230.02\n",
       "2017-10-31 00:00:00  618.03  26102.88\n",
       "2017-11-01 00:00:00  623.01  26328.94\n",
       "2017-11-02 00:00:00  626.92  26555.80\n",
       "2017-11-03 00:00:00  639.17  26860.32\n",
       "2017-11-06 00:00:00  653.06  27615.56\n",
       "2017-11-07 00:00:00  642.07  27370.96\n",
       "2017-11-08 00:00:00  650.38  27400.20\n",
       "2017-11-09 00:00:00  650.07  27509.60\n",
       "2017-11-10 00:00:00  677.95  28532.22\n",
       "2017-11-13 00:00:00  687.88  28617.41\n",
       "2017-11-14 00:00:00  678.75  27983.82\n",
       "2017-11-15 00:00:00  688.08  28553.16\n",
       "2017-11-16 00:00:00  719.11  29538.21\n",
       "2017-11-17 00:00:00  690.25  28611.32\n",
       "2017-11-20 00:00:00  679.15  28129.15\n",
       "2017-11-21 00:00:00  677.25  28473.68\n",
       "2017-11-22 00:00:00  650.52  27438.76\n",
       "2017-11-23 00:00:00  633.73  26310.06\n",
       "2017-11-24 00:00:00  630.04  26292.58\n",
       "2017-11-27 00:00:00  621.29  25912.52\n",
       "2017-11-28 00:00:00  648.23  26599.25\n",
       "2017-11-29 00:00:00  638.12  26031.74\n",
       "2017-11-30 00:00:00  631.00  25735.33\n",
       "2017-12-01 00:00:00  622.35  25598.49\n",
       "2017-12-04 00:00:00  637.79  26386.29\n",
       "2017-12-05 00:00:00  643.02  26366.45\n",
       "\n",
       "[3142 rows x 2 columns]"
      ]
     },
     "execution_count": 117,
     "metadata": {},
     "output_type": "execute_result"
    }
   ],
   "source": [
    "df"
   ]
  },
  {
   "cell_type": "code",
   "execution_count": 118,
   "metadata": {
    "collapsed": false
   },
   "outputs": [],
   "source": [
    "df.index = pd.to_datetime(df.index)"
   ]
  },
  {
   "cell_type": "code",
   "execution_count": 119,
   "metadata": {
    "collapsed": false
   },
   "outputs": [
    {
     "data": {
      "text/plain": [
       "DatetimeIndex(['2004-12-31', '2005-01-04', '2005-01-05', '2005-01-06',\n",
       "               '2005-01-07', '2005-01-10', '2005-01-11', '2005-01-12',\n",
       "               '2005-01-13', '2005-01-14',\n",
       "               ...\n",
       "               '2017-11-22', '2017-11-23', '2017-11-24', '2017-11-27',\n",
       "               '2017-11-28', '2017-11-29', '2017-11-30', '2017-12-01',\n",
       "               '2017-12-04', '2017-12-05'],\n",
       "              dtype='datetime64[ns]', name=u'time', length=3142, freq=None)"
      ]
     },
     "execution_count": 119,
     "metadata": {},
     "output_type": "execute_result"
    }
   ],
   "source": [
    "df.index"
   ]
  },
  {
   "cell_type": "code",
   "execution_count": 120,
   "metadata": {
    "collapsed": false
   },
   "outputs": [],
   "source": [
    "endOfWeekList = sorted(list(set(df.iloc[df.resample('W').size().cumsum().sub(1)].index)))"
   ]
  },
  {
   "cell_type": "code",
   "execution_count": 121,
   "metadata": {
    "collapsed": false
   },
   "outputs": [],
   "source": [
    "vol = df.loc[endOfWeekList].pct_change().rolling(window= 20, min_periods=20).std().round(3)"
   ]
  },
  {
   "cell_type": "code",
   "execution_count": 122,
   "metadata": {
    "collapsed": false
   },
   "outputs": [
    {
     "data": {
      "text/html": [
       "<div>\n",
       "<style>\n",
       "    .dataframe thead tr:only-child th {\n",
       "        text-align: right;\n",
       "    }\n",
       "\n",
       "    .dataframe thead th {\n",
       "        text-align: left;\n",
       "    }\n",
       "\n",
       "    .dataframe tbody tr th {\n",
       "        vertical-align: top;\n",
       "    }\n",
       "</style>\n",
       "<table border=\"1\" class=\"dataframe\">\n",
       "  <thead>\n",
       "    <tr style=\"text-align: right;\">\n",
       "      <th></th>\n",
       "      <th>贵州茅台</th>\n",
       "      <th>白酒指数</th>\n",
       "    </tr>\n",
       "    <tr>\n",
       "      <th>time</th>\n",
       "      <th></th>\n",
       "      <th></th>\n",
       "    </tr>\n",
       "  </thead>\n",
       "  <tbody>\n",
       "    <tr>\n",
       "      <th>2004-12-31</th>\n",
       "      <td>NaN</td>\n",
       "      <td>NaN</td>\n",
       "    </tr>\n",
       "    <tr>\n",
       "      <th>2005-01-07</th>\n",
       "      <td>NaN</td>\n",
       "      <td>NaN</td>\n",
       "    </tr>\n",
       "    <tr>\n",
       "      <th>2005-01-14</th>\n",
       "      <td>NaN</td>\n",
       "      <td>NaN</td>\n",
       "    </tr>\n",
       "    <tr>\n",
       "      <th>2005-01-21</th>\n",
       "      <td>NaN</td>\n",
       "      <td>NaN</td>\n",
       "    </tr>\n",
       "    <tr>\n",
       "      <th>2005-01-28</th>\n",
       "      <td>NaN</td>\n",
       "      <td>NaN</td>\n",
       "    </tr>\n",
       "    <tr>\n",
       "      <th>2005-02-04</th>\n",
       "      <td>NaN</td>\n",
       "      <td>NaN</td>\n",
       "    </tr>\n",
       "    <tr>\n",
       "      <th>2005-02-18</th>\n",
       "      <td>NaN</td>\n",
       "      <td>NaN</td>\n",
       "    </tr>\n",
       "    <tr>\n",
       "      <th>2005-02-25</th>\n",
       "      <td>NaN</td>\n",
       "      <td>NaN</td>\n",
       "    </tr>\n",
       "    <tr>\n",
       "      <th>2005-03-04</th>\n",
       "      <td>NaN</td>\n",
       "      <td>NaN</td>\n",
       "    </tr>\n",
       "    <tr>\n",
       "      <th>2005-03-11</th>\n",
       "      <td>NaN</td>\n",
       "      <td>NaN</td>\n",
       "    </tr>\n",
       "    <tr>\n",
       "      <th>2005-03-18</th>\n",
       "      <td>NaN</td>\n",
       "      <td>NaN</td>\n",
       "    </tr>\n",
       "    <tr>\n",
       "      <th>2005-03-25</th>\n",
       "      <td>NaN</td>\n",
       "      <td>NaN</td>\n",
       "    </tr>\n",
       "    <tr>\n",
       "      <th>2005-04-01</th>\n",
       "      <td>NaN</td>\n",
       "      <td>NaN</td>\n",
       "    </tr>\n",
       "    <tr>\n",
       "      <th>2005-04-08</th>\n",
       "      <td>NaN</td>\n",
       "      <td>NaN</td>\n",
       "    </tr>\n",
       "    <tr>\n",
       "      <th>2005-04-15</th>\n",
       "      <td>NaN</td>\n",
       "      <td>NaN</td>\n",
       "    </tr>\n",
       "    <tr>\n",
       "      <th>2005-04-22</th>\n",
       "      <td>NaN</td>\n",
       "      <td>NaN</td>\n",
       "    </tr>\n",
       "    <tr>\n",
       "      <th>2005-04-29</th>\n",
       "      <td>NaN</td>\n",
       "      <td>NaN</td>\n",
       "    </tr>\n",
       "    <tr>\n",
       "      <th>2005-05-13</th>\n",
       "      <td>NaN</td>\n",
       "      <td>NaN</td>\n",
       "    </tr>\n",
       "    <tr>\n",
       "      <th>2005-05-20</th>\n",
       "      <td>NaN</td>\n",
       "      <td>NaN</td>\n",
       "    </tr>\n",
       "    <tr>\n",
       "      <th>2005-05-27</th>\n",
       "      <td>NaN</td>\n",
       "      <td>NaN</td>\n",
       "    </tr>\n",
       "    <tr>\n",
       "      <th>2005-06-03</th>\n",
       "      <td>0.049</td>\n",
       "      <td>0.034</td>\n",
       "    </tr>\n",
       "    <tr>\n",
       "      <th>2005-06-10</th>\n",
       "      <td>0.055</td>\n",
       "      <td>0.040</td>\n",
       "    </tr>\n",
       "    <tr>\n",
       "      <th>2005-06-17</th>\n",
       "      <td>0.055</td>\n",
       "      <td>0.040</td>\n",
       "    </tr>\n",
       "    <tr>\n",
       "      <th>2005-06-24</th>\n",
       "      <td>0.057</td>\n",
       "      <td>0.041</td>\n",
       "    </tr>\n",
       "    <tr>\n",
       "      <th>2005-07-01</th>\n",
       "      <td>0.057</td>\n",
       "      <td>0.042</td>\n",
       "    </tr>\n",
       "    <tr>\n",
       "      <th>2005-07-08</th>\n",
       "      <td>0.057</td>\n",
       "      <td>0.042</td>\n",
       "    </tr>\n",
       "    <tr>\n",
       "      <th>2005-07-15</th>\n",
       "      <td>0.057</td>\n",
       "      <td>0.042</td>\n",
       "    </tr>\n",
       "    <tr>\n",
       "      <th>2005-07-22</th>\n",
       "      <td>0.054</td>\n",
       "      <td>0.040</td>\n",
       "    </tr>\n",
       "    <tr>\n",
       "      <th>2005-07-29</th>\n",
       "      <td>0.054</td>\n",
       "      <td>0.040</td>\n",
       "    </tr>\n",
       "    <tr>\n",
       "      <th>2005-08-05</th>\n",
       "      <td>0.053</td>\n",
       "      <td>0.041</td>\n",
       "    </tr>\n",
       "    <tr>\n",
       "      <th>...</th>\n",
       "      <td>...</td>\n",
       "      <td>...</td>\n",
       "    </tr>\n",
       "    <tr>\n",
       "      <th>2017-05-12</th>\n",
       "      <td>0.022</td>\n",
       "      <td>0.020</td>\n",
       "    </tr>\n",
       "    <tr>\n",
       "      <th>2017-05-19</th>\n",
       "      <td>0.024</td>\n",
       "      <td>0.021</td>\n",
       "    </tr>\n",
       "    <tr>\n",
       "      <th>2017-05-26</th>\n",
       "      <td>0.022</td>\n",
       "      <td>0.021</td>\n",
       "    </tr>\n",
       "    <tr>\n",
       "      <th>2017-06-02</th>\n",
       "      <td>0.022</td>\n",
       "      <td>0.019</td>\n",
       "    </tr>\n",
       "    <tr>\n",
       "      <th>2017-06-09</th>\n",
       "      <td>0.023</td>\n",
       "      <td>0.021</td>\n",
       "    </tr>\n",
       "    <tr>\n",
       "      <th>2017-06-16</th>\n",
       "      <td>0.021</td>\n",
       "      <td>0.021</td>\n",
       "    </tr>\n",
       "    <tr>\n",
       "      <th>2017-06-23</th>\n",
       "      <td>0.021</td>\n",
       "      <td>0.021</td>\n",
       "    </tr>\n",
       "    <tr>\n",
       "      <th>2017-06-30</th>\n",
       "      <td>0.021</td>\n",
       "      <td>0.021</td>\n",
       "    </tr>\n",
       "    <tr>\n",
       "      <th>2017-07-07</th>\n",
       "      <td>0.024</td>\n",
       "      <td>0.024</td>\n",
       "    </tr>\n",
       "    <tr>\n",
       "      <th>2017-07-14</th>\n",
       "      <td>0.024</td>\n",
       "      <td>0.023</td>\n",
       "    </tr>\n",
       "    <tr>\n",
       "      <th>2017-07-21</th>\n",
       "      <td>0.023</td>\n",
       "      <td>0.023</td>\n",
       "    </tr>\n",
       "    <tr>\n",
       "      <th>2017-07-28</th>\n",
       "      <td>0.023</td>\n",
       "      <td>0.024</td>\n",
       "    </tr>\n",
       "    <tr>\n",
       "      <th>2017-08-04</th>\n",
       "      <td>0.024</td>\n",
       "      <td>0.025</td>\n",
       "    </tr>\n",
       "    <tr>\n",
       "      <th>2017-08-11</th>\n",
       "      <td>0.024</td>\n",
       "      <td>0.025</td>\n",
       "    </tr>\n",
       "    <tr>\n",
       "      <th>2017-08-18</th>\n",
       "      <td>0.024</td>\n",
       "      <td>0.025</td>\n",
       "    </tr>\n",
       "    <tr>\n",
       "      <th>2017-08-25</th>\n",
       "      <td>0.024</td>\n",
       "      <td>0.025</td>\n",
       "    </tr>\n",
       "    <tr>\n",
       "      <th>2017-09-01</th>\n",
       "      <td>0.024</td>\n",
       "      <td>0.025</td>\n",
       "    </tr>\n",
       "    <tr>\n",
       "      <th>2017-09-08</th>\n",
       "      <td>0.027</td>\n",
       "      <td>0.027</td>\n",
       "    </tr>\n",
       "    <tr>\n",
       "      <th>2017-09-15</th>\n",
       "      <td>0.027</td>\n",
       "      <td>0.028</td>\n",
       "    </tr>\n",
       "    <tr>\n",
       "      <th>2017-09-22</th>\n",
       "      <td>0.027</td>\n",
       "      <td>0.028</td>\n",
       "    </tr>\n",
       "    <tr>\n",
       "      <th>2017-09-29</th>\n",
       "      <td>0.027</td>\n",
       "      <td>0.029</td>\n",
       "    </tr>\n",
       "    <tr>\n",
       "      <th>2017-10-13</th>\n",
       "      <td>0.028</td>\n",
       "      <td>0.029</td>\n",
       "    </tr>\n",
       "    <tr>\n",
       "      <th>2017-10-20</th>\n",
       "      <td>0.028</td>\n",
       "      <td>0.029</td>\n",
       "    </tr>\n",
       "    <tr>\n",
       "      <th>2017-10-27</th>\n",
       "      <td>0.038</td>\n",
       "      <td>0.033</td>\n",
       "    </tr>\n",
       "    <tr>\n",
       "      <th>2017-11-03</th>\n",
       "      <td>0.039</td>\n",
       "      <td>0.033</td>\n",
       "    </tr>\n",
       "    <tr>\n",
       "      <th>2017-11-10</th>\n",
       "      <td>0.039</td>\n",
       "      <td>0.034</td>\n",
       "    </tr>\n",
       "    <tr>\n",
       "      <th>2017-11-17</th>\n",
       "      <td>0.039</td>\n",
       "      <td>0.034</td>\n",
       "    </tr>\n",
       "    <tr>\n",
       "      <th>2017-11-24</th>\n",
       "      <td>0.046</td>\n",
       "      <td>0.040</td>\n",
       "    </tr>\n",
       "    <tr>\n",
       "      <th>2017-12-01</th>\n",
       "      <td>0.044</td>\n",
       "      <td>0.039</td>\n",
       "    </tr>\n",
       "    <tr>\n",
       "      <th>2017-12-05</th>\n",
       "      <td>0.045</td>\n",
       "      <td>0.040</td>\n",
       "    </tr>\n",
       "  </tbody>\n",
       "</table>\n",
       "<p>658 rows × 2 columns</p>\n",
       "</div>"
      ],
      "text/plain": [
       "             贵州茅台   白酒指数\n",
       "time                    \n",
       "2004-12-31    NaN    NaN\n",
       "2005-01-07    NaN    NaN\n",
       "2005-01-14    NaN    NaN\n",
       "2005-01-21    NaN    NaN\n",
       "2005-01-28    NaN    NaN\n",
       "2005-02-04    NaN    NaN\n",
       "2005-02-18    NaN    NaN\n",
       "2005-02-25    NaN    NaN\n",
       "2005-03-04    NaN    NaN\n",
       "2005-03-11    NaN    NaN\n",
       "2005-03-18    NaN    NaN\n",
       "2005-03-25    NaN    NaN\n",
       "2005-04-01    NaN    NaN\n",
       "2005-04-08    NaN    NaN\n",
       "2005-04-15    NaN    NaN\n",
       "2005-04-22    NaN    NaN\n",
       "2005-04-29    NaN    NaN\n",
       "2005-05-13    NaN    NaN\n",
       "2005-05-20    NaN    NaN\n",
       "2005-05-27    NaN    NaN\n",
       "2005-06-03  0.049  0.034\n",
       "2005-06-10  0.055  0.040\n",
       "2005-06-17  0.055  0.040\n",
       "2005-06-24  0.057  0.041\n",
       "2005-07-01  0.057  0.042\n",
       "2005-07-08  0.057  0.042\n",
       "2005-07-15  0.057  0.042\n",
       "2005-07-22  0.054  0.040\n",
       "2005-07-29  0.054  0.040\n",
       "2005-08-05  0.053  0.041\n",
       "...           ...    ...\n",
       "2017-05-12  0.022  0.020\n",
       "2017-05-19  0.024  0.021\n",
       "2017-05-26  0.022  0.021\n",
       "2017-06-02  0.022  0.019\n",
       "2017-06-09  0.023  0.021\n",
       "2017-06-16  0.021  0.021\n",
       "2017-06-23  0.021  0.021\n",
       "2017-06-30  0.021  0.021\n",
       "2017-07-07  0.024  0.024\n",
       "2017-07-14  0.024  0.023\n",
       "2017-07-21  0.023  0.023\n",
       "2017-07-28  0.023  0.024\n",
       "2017-08-04  0.024  0.025\n",
       "2017-08-11  0.024  0.025\n",
       "2017-08-18  0.024  0.025\n",
       "2017-08-25  0.024  0.025\n",
       "2017-09-01  0.024  0.025\n",
       "2017-09-08  0.027  0.027\n",
       "2017-09-15  0.027  0.028\n",
       "2017-09-22  0.027  0.028\n",
       "2017-09-29  0.027  0.029\n",
       "2017-10-13  0.028  0.029\n",
       "2017-10-20  0.028  0.029\n",
       "2017-10-27  0.038  0.033\n",
       "2017-11-03  0.039  0.033\n",
       "2017-11-10  0.039  0.034\n",
       "2017-11-17  0.039  0.034\n",
       "2017-11-24  0.046  0.040\n",
       "2017-12-01  0.044  0.039\n",
       "2017-12-05  0.045  0.040\n",
       "\n",
       "[658 rows x 2 columns]"
      ]
     },
     "execution_count": 122,
     "metadata": {},
     "output_type": "execute_result"
    }
   ],
   "source": [
    "vol"
   ]
  },
  {
   "cell_type": "code",
   "execution_count": 123,
   "metadata": {
    "collapsed": true
   },
   "outputs": [],
   "source": [
    "# make sure that matplotib and seaborn can show Chinese\n",
    "import matplotlib as mpl\n",
    "mpl.rcParams['font.sans-serif'] = ['SimHei']\n",
    "mpl.rcParams['font.serif'] = ['SimHei']\n",
    "sns.set_style(\"darkgrid\",{\"font.sans-serif\":['simhei', 'Arial']})"
   ]
  },
  {
   "cell_type": "code",
   "execution_count": 124,
   "metadata": {
    "collapsed": false
   },
   "outputs": [
    {
     "data": {
      "text/plain": [
       "<matplotlib.text.Text at 0x466aea90>"
      ]
     },
     "execution_count": 124,
     "metadata": {},
     "output_type": "execute_result"
    },
    {
     "data": {
      "image/png": "[encoded data removed]",
      "text/plain": [
       "<matplotlib.figure.Figure at 0x446ef588>"
      ]
     },
     "metadata": {},
     "output_type": "display_data"
    }
   ],
   "source": [
    "# show size distribution(quantile plot)\n",
    "fig = plt.figure(figsize=(16,10))\n",
    "# Add a subplot\n",
    "ax = fig.add_subplot(111)\n",
    "vol.plot(figsize=(22,14),ax=ax,title ='Volatility Difference',fontsize =13)\n",
    "ax.set_title(ax.get_title(),alpha=0.7, fontsize=25)"
   ]
  }
 ],
 "metadata": {
  "kernelspec": {
   "display_name": "Python 2",
   "language": "python",
   "name": "python2"
  },
  "language_info": {
   "codemirror_mode": {
    "name": "ipython",
    "version": 2
   },
   "file_extension": ".py",
   "mimetype": "text/x-python",
   "name": "python",
   "nbconvert_exporter": "python",
   "pygments_lexer": "ipython2",
   "version": "2.7.12"
  }
 },
 "nbformat": 4,
 "nbformat_minor": 2
}
