{
 "cells": [
  {
   "cell_type": "code",
   "execution_count": 78,
   "metadata": {
    "collapsed": true,
    "deletable": true,
    "editable": true
   },
   "outputs": [],
   "source": [
    "#!/Tsan/bin/python\n",
    "# -*- coding: utf-8 -*-"
   ]
  },
  {
   "cell_type": "code",
   "execution_count": 79,
   "metadata": {
    "collapsed": false,
    "deletable": true,
    "editable": true
   },
   "outputs": [],
   "source": [
    "# Libraries to use\n",
    "from __future__ import division \n",
    "import numpy as np\n",
    "import pandas as pd\n",
    "import statsmodels.api as sm\n",
    "import matplotlib.pyplot as plt\n",
    "import seaborn as sns\n",
    "from datetime import datetime\n",
    "from sklearn.cluster import KMeans\n",
    "import talib as tb\n",
    "from scipy import stats"
   ]
  },
  {
   "cell_type": "code",
   "execution_count": 80,
   "metadata": {
    "collapsed": false,
    "deletable": true,
    "editable": true
   },
   "outputs": [
    {
     "name": "stdout",
     "output_type": "stream",
     "text": [
      "The line_profiler extension is already loaded. To reload it, use:\n",
      "  %reload_ext line_profiler\n"
     ]
    }
   ],
   "source": [
    "%matplotlib inline\n",
    "%load_ext line_profiler"
   ]
  },
  {
   "cell_type": "code",
   "execution_count": 81,
   "metadata": {
    "collapsed": true,
    "deletable": true,
    "editable": true
   },
   "outputs": [],
   "source": [
    "path = 'C:/Users/LZJF_02/Desktop/BacktestRA/'"
   ]
  },
  {
   "cell_type": "code",
   "execution_count": 82,
   "metadata": {
    "collapsed": true,
    "deletable": true,
    "editable": true
   },
   "outputs": [],
   "source": [
    "filenameKKTest = 'KkRatioStrategy20170601-20171201.csv'\n",
    "filenameKKTrain = 'KkRatioStrategy20160601-20170601.csv'"
   ]
  },
  {
   "cell_type": "code",
   "execution_count": 83,
   "metadata": {
    "collapsed": true
   },
   "outputs": [],
   "source": [
    "# multi\n",
    "filenameMultiCycleTest = 'MultiCycleStrategy20170601-20171201.csv'\n",
    "filenameMultiCycleTrain =  'MultiCycleStrategy20150601-20170601.csv' "
   ]
  },
  {
   "cell_type": "code",
   "execution_count": 84,
   "metadata": {
    "collapsed": true,
    "deletable": true,
    "editable": true
   },
   "outputs": [],
   "source": [
    "def calPosPeriod(df,barBin = 5):\n",
    "    df.entryDt = df.entryDt.apply(lambda x:datetime.strptime(x,'%Y-%m-%d %H:%M:%S'))\n",
    "    df.exitDt = df.exitDt.apply(lambda x:datetime.strptime(x,'%Y-%m-%d %H:%M:%S'))\n",
    "    df['posPeriod'] = (df.exitDt - df.entryDt)\n",
    "    df['posPeriod'] = df['posPeriod'].apply(lambda x: x.total_seconds() / 60 /barBin)\n",
    "    return df"
   ]
  },
  {
   "cell_type": "code",
   "execution_count": 85,
   "metadata": {
    "collapsed": true
   },
   "outputs": [],
   "source": [
    "def varDiff(df1,df2,iterNum = 10000):\n",
    "    \"\"\" To test the whether there is a significance difference bewteen two population variance with unequal Sample size.\n",
    "    Parameters:\n",
    "    df1:DataFrame. The outcome of calPosPeriod function.\n",
    "    df2:DataFrame. The outcome of calPosPeriod function.\n",
    "    iterNum: Int. The iteration number.\n",
    "    Return:Series. The Series of pValueList.\n",
    "    \"\"\"\n",
    "    shape1 = df1.shape[0]\n",
    "    shape2 = df2.shape[0]\n",
    "    pValueList = []\n",
    "    if shape1 > shape2:\n",
    "        for i in xrange(iterNum):\n",
    "            pValueList.append(stats.ttest_rel(np.random.choice(df1.pnl.values,shape2),\n",
    "                                              df2.pnl.values).pvalue)\n",
    "    else:\n",
    "        for i in xrange(iterNum):\n",
    "            pValueList.append(stats.ttest_rel(np.random.choice(df2.pnl.values,shape1),\n",
    "                                              df1.pnl.values).pvalue)\n",
    "    return pd.Series(pValueList)"
   ]
  },
  {
   "cell_type": "code",
   "execution_count": 86,
   "metadata": {
    "collapsed": false,
    "deletable": true,
    "editable": true
   },
   "outputs": [],
   "source": [
    "kkTest = pd.read_csv(path+filenameKKTest,infer_datetime_format=True,parse_dates=[0])\n",
    "kkTrain = pd.read_csv(path+filenameKKTrain,infer_datetime_format=True,parse_dates=[0])\n",
    "kkTest = calPosPeriod(kkTest)\n",
    "kkTrain = calPosPeriod(kkTrain)"
   ]
  },
  {
   "cell_type": "code",
   "execution_count": 87,
   "metadata": {
    "collapsed": false,
    "deletable": true,
    "editable": true
   },
   "outputs": [],
   "source": [
    "MultiCycleTest = pd.read_csv(path+filenameMultiCycleTest,infer_datetime_format=True,parse_dates=[0])\n",
    "MultiCycleTrain = pd.read_csv(path+filenameMultiCycleTrain,infer_datetime_format=True,parse_dates=[0])\n",
    "MultiCycleTest = calPosPeriod(MultiCycleTest)\n",
    "MultiCycleTrain = calPosPeriod(MultiCycleTrain)"
   ]
  },
  {
   "cell_type": "code",
   "execution_count": 88,
   "metadata": {
    "collapsed": false,
    "deletable": true,
    "editable": true
   },
   "outputs": [],
   "source": [
    "P_MultiCycle = varDiff(MultiCycleTest,MultiCycleTrain)"
   ]
  },
  {
   "cell_type": "code",
   "execution_count": 105,
   "metadata": {
    "collapsed": false,
    "deletable": true,
    "editable": true
   },
   "outputs": [
    {
     "name": "stdout",
     "output_type": "stream",
     "text": [
      "The 5% quantile is 0.235650109537 \t\n",
      "The number of P-Values below 0.05 is 0.0007\n"
     ]
    },
    {
     "data": {
      "text/plain": [
       "count    10000.000000\n",
       "mean         0.652901\n",
       "std          0.229176\n",
       "min          0.010044\n",
       "25%          0.487959\n",
       "50%          0.681834\n",
       "75%          0.845903\n",
       "max          0.999945\n",
       "dtype: float64"
      ]
     },
     "execution_count": 105,
     "metadata": {},
     "output_type": "execute_result"
    }
   ],
   "source": [
    "print 'The 5% quantile is'+\" \"+ str(P_MultiCycle.quantile(0.05)),'\\t'\n",
    "print 'The number of P-Values below 0.05 is' +\" \"+ str(P_MultiCycle[P_MultiCycle <= 0.05].shape[0] / P_MultiCycle.shape[0])\n",
    "P_MultiCycle.describe()"
   ]
  },
  {
   "cell_type": "code",
   "execution_count": 141,
   "metadata": {
    "collapsed": false,
    "scrolled": true
   },
   "outputs": [
    {
     "data": {
      "text/html": [
       "<div>\n",
       "<style>\n",
       "    .dataframe thead tr:only-child th {\n",
       "        text-align: right;\n",
       "    }\n",
       "\n",
       "    .dataframe thead th {\n",
       "        text-align: left;\n",
       "    }\n",
       "\n",
       "    .dataframe tbody tr th {\n",
       "        vertical-align: top;\n",
       "    }\n",
       "</style>\n",
       "<table border=\"1\" class=\"dataframe\">\n",
       "  <thead>\n",
       "    <tr style=\"text-align: right;\">\n",
       "      <th></th>\n",
       "      <th>exitPrice</th>\n",
       "      <th>volume</th>\n",
       "      <th>turnover</th>\n",
       "      <th>commission</th>\n",
       "      <th>slippage</th>\n",
       "      <th>pnl</th>\n",
       "      <th>posPeriod</th>\n",
       "    </tr>\n",
       "  </thead>\n",
       "  <tbody>\n",
       "    <tr>\n",
       "      <th>count</th>\n",
       "      <td>66.000000</td>\n",
       "      <td>66.000000</td>\n",
       "      <td>66.000000</td>\n",
       "      <td>66.000000</td>\n",
       "      <td>66.0</td>\n",
       "      <td>66.000000</td>\n",
       "      <td>66.000000</td>\n",
       "    </tr>\n",
       "    <tr>\n",
       "      <th>mean</th>\n",
       "      <td>3706.893939</td>\n",
       "      <td>0.090909</td>\n",
       "      <td>73995.151515</td>\n",
       "      <td>22.198545</td>\n",
       "      <td>20.0</td>\n",
       "      <td>57.498424</td>\n",
       "      <td>127.142424</td>\n",
       "    </tr>\n",
       "    <tr>\n",
       "      <th>std</th>\n",
       "      <td>233.609215</td>\n",
       "      <td>1.003490</td>\n",
       "      <td>4600.183689</td>\n",
       "      <td>1.380055</td>\n",
       "      <td>0.0</td>\n",
       "      <td>483.688124</td>\n",
       "      <td>182.816585</td>\n",
       "    </tr>\n",
       "    <tr>\n",
       "      <th>min</th>\n",
       "      <td>2962.000000</td>\n",
       "      <td>-1.000000</td>\n",
       "      <td>59470.000000</td>\n",
       "      <td>17.841000</td>\n",
       "      <td>20.0</td>\n",
       "      <td>-474.411000</td>\n",
       "      <td>2.400000</td>\n",
       "    </tr>\n",
       "    <tr>\n",
       "      <th>25%</th>\n",
       "      <td>3610.000000</td>\n",
       "      <td>-1.000000</td>\n",
       "      <td>72040.000000</td>\n",
       "      <td>21.612000</td>\n",
       "      <td>20.0</td>\n",
       "      <td>-278.011750</td>\n",
       "      <td>20.600000</td>\n",
       "    </tr>\n",
       "    <tr>\n",
       "      <th>50%</th>\n",
       "      <td>3728.000000</td>\n",
       "      <td>1.000000</td>\n",
       "      <td>74365.000000</td>\n",
       "      <td>22.309500</td>\n",
       "      <td>20.0</td>\n",
       "      <td>-37.783500</td>\n",
       "      <td>78.500000</td>\n",
       "    </tr>\n",
       "    <tr>\n",
       "      <th>75%</th>\n",
       "      <td>3860.750000</td>\n",
       "      <td>1.000000</td>\n",
       "      <td>77030.000000</td>\n",
       "      <td>23.109000</td>\n",
       "      <td>20.0</td>\n",
       "      <td>186.013250</td>\n",
       "      <td>118.050000</td>\n",
       "    </tr>\n",
       "    <tr>\n",
       "      <th>max</th>\n",
       "      <td>4084.000000</td>\n",
       "      <td>1.000000</td>\n",
       "      <td>81410.000000</td>\n",
       "      <td>24.423000</td>\n",
       "      <td>20.0</td>\n",
       "      <td>2386.393000</td>\n",
       "      <td>860.000000</td>\n",
       "    </tr>\n",
       "  </tbody>\n",
       "</table>\n",
       "</div>"
      ],
      "text/plain": [
       "         exitPrice     volume      turnover  commission  slippage  \\\n",
       "count    66.000000  66.000000     66.000000   66.000000      66.0   \n",
       "mean   3706.893939   0.090909  73995.151515   22.198545      20.0   \n",
       "std     233.609215   1.003490   4600.183689    1.380055       0.0   \n",
       "min    2962.000000  -1.000000  59470.000000   17.841000      20.0   \n",
       "25%    3610.000000  -1.000000  72040.000000   21.612000      20.0   \n",
       "50%    3728.000000   1.000000  74365.000000   22.309500      20.0   \n",
       "75%    3860.750000   1.000000  77030.000000   23.109000      20.0   \n",
       "max    4084.000000   1.000000  81410.000000   24.423000      20.0   \n",
       "\n",
       "               pnl   posPeriod  \n",
       "count    66.000000   66.000000  \n",
       "mean     57.498424  127.142424  \n",
       "std     483.688124  182.816585  \n",
       "min    -474.411000    2.400000  \n",
       "25%    -278.011750   20.600000  \n",
       "50%     -37.783500   78.500000  \n",
       "75%     186.013250  118.050000  \n",
       "max    2386.393000  860.000000  "
      ]
     },
     "execution_count": 141,
     "metadata": {},
     "output_type": "execute_result"
    }
   ],
   "source": [
    "MultiCycleTest.describe()"
   ]
  },
  {
   "cell_type": "code",
   "execution_count": 150,
   "metadata": {
    "collapsed": false
   },
   "outputs": [
    {
     "data": {
      "text/plain": [
       "1.6233477447214497"
      ]
     },
     "execution_count": 150,
     "metadata": {},
     "output_type": "execute_result"
    }
   ],
   "source": [
    "MultiCycleTest.pnl.std()**2 / MultiCycleTrain.pnl.std()**2"
   ]
  },
  {
   "cell_type": "code",
   "execution_count": 173,
   "metadata": {
    "collapsed": false
   },
   "outputs": [
    {
     "data": {
      "text/plain": [
       "LeveneResult(statistic=1.6006632447902718, pvalue=0.20678134160909584)"
      ]
     },
     "execution_count": 173,
     "metadata": {},
     "output_type": "execute_result"
    }
   ],
   "source": [
    "# The Levene test tests the null hypothesis that all input samples are from populations with equal variances. \n",
    "# Levene’s test is an alternative to Bartlett’s test bartlett in the case where there are significant deviations from normality.\n",
    "stats.levene(MultiCycleTest.pnl.values, MultiCycleTrain.pnl.values)"
   ]
  },
  {
   "cell_type": "code",
   "execution_count": null,
   "metadata": {
    "collapsed": false
   },
   "outputs": [],
   "source": []
  },
  {
   "cell_type": "code",
   "execution_count": 157,
   "metadata": {
    "collapsed": false
   },
   "outputs": [
    {
     "data": {
      "text/plain": [
       "0.99518945616117949"
      ]
     },
     "execution_count": 157,
     "metadata": {},
     "output_type": "execute_result"
    }
   ],
   "source": [
    "# F检定判断两者样本方差是否一样（Note that the F-test is extremely sensitive to non-normality of X and Y, so you're probably better off doing a more robust \n",
    "#test such as Levene's test or Bartlett's test unless you're reasonably sure that X and Y are distributed normally.）\n",
    "stats.f.cdf(MultiCycleTest.pnl.std()**2 / MultiCycleTrain.pnl.std()**2, MultiCycleTest.shape[0]-1,MultiCycleTrain.shape[0]-1)"
   ]
  },
  {
   "cell_type": "code",
   "execution_count": 134,
   "metadata": {
    "collapsed": false,
    "deletable": true,
    "editable": true
   },
   "outputs": [
    {
     "data": {
      "text/html": [
       "<div>\n",
       "<style>\n",
       "    .dataframe thead tr:only-child th {\n",
       "        text-align: right;\n",
       "    }\n",
       "\n",
       "    .dataframe thead th {\n",
       "        text-align: left;\n",
       "    }\n",
       "\n",
       "    .dataframe tbody tr th {\n",
       "        vertical-align: top;\n",
       "    }\n",
       "</style>\n",
       "<table border=\"1\" class=\"dataframe\">\n",
       "  <thead>\n",
       "    <tr style=\"text-align: right;\">\n",
       "      <th></th>\n",
       "      <th>exitPrice</th>\n",
       "      <th>volume</th>\n",
       "      <th>turnover</th>\n",
       "      <th>commission</th>\n",
       "      <th>slippage</th>\n",
       "      <th>pnl</th>\n",
       "      <th>posPeriod</th>\n",
       "    </tr>\n",
       "  </thead>\n",
       "  <tbody>\n",
       "    <tr>\n",
       "      <th>count</th>\n",
       "      <td>36.000000</td>\n",
       "      <td>36.0</td>\n",
       "      <td>36.000000</td>\n",
       "      <td>36.000000</td>\n",
       "      <td>36.0</td>\n",
       "      <td>36.000000</td>\n",
       "      <td>36.000000</td>\n",
       "    </tr>\n",
       "    <tr>\n",
       "      <th>mean</th>\n",
       "      <td>3717.777778</td>\n",
       "      <td>1.0</td>\n",
       "      <td>74133.333333</td>\n",
       "      <td>22.240000</td>\n",
       "      <td>20.0</td>\n",
       "      <td>179.982222</td>\n",
       "      <td>176.933333</td>\n",
       "    </tr>\n",
       "    <tr>\n",
       "      <th>std</th>\n",
       "      <td>232.130273</td>\n",
       "      <td>0.0</td>\n",
       "      <td>4555.145913</td>\n",
       "      <td>1.366544</td>\n",
       "      <td>0.0</td>\n",
       "      <td>579.812098</td>\n",
       "      <td>231.717449</td>\n",
       "    </tr>\n",
       "    <tr>\n",
       "      <th>min</th>\n",
       "      <td>3150.000000</td>\n",
       "      <td>1.0</td>\n",
       "      <td>63070.000000</td>\n",
       "      <td>18.921000</td>\n",
       "      <td>20.0</td>\n",
       "      <td>-474.411000</td>\n",
       "      <td>4.600000</td>\n",
       "    </tr>\n",
       "    <tr>\n",
       "      <th>25%</th>\n",
       "      <td>3621.250000</td>\n",
       "      <td>1.0</td>\n",
       "      <td>72455.000000</td>\n",
       "      <td>21.736500</td>\n",
       "      <td>20.0</td>\n",
       "      <td>-178.389500</td>\n",
       "      <td>44.750000</td>\n",
       "    </tr>\n",
       "    <tr>\n",
       "      <th>50%</th>\n",
       "      <td>3742.500000</td>\n",
       "      <td>1.0</td>\n",
       "      <td>74595.000000</td>\n",
       "      <td>22.378500</td>\n",
       "      <td>20.0</td>\n",
       "      <td>47.014000</td>\n",
       "      <td>88.100000</td>\n",
       "    </tr>\n",
       "    <tr>\n",
       "      <th>75%</th>\n",
       "      <td>3869.500000</td>\n",
       "      <td>1.0</td>\n",
       "      <td>77355.000000</td>\n",
       "      <td>23.206500</td>\n",
       "      <td>20.0</td>\n",
       "      <td>520.518250</td>\n",
       "      <td>239.600000</td>\n",
       "    </tr>\n",
       "    <tr>\n",
       "      <th>max</th>\n",
       "      <td>4056.000000</td>\n",
       "      <td>1.0</td>\n",
       "      <td>81370.000000</td>\n",
       "      <td>24.411000</td>\n",
       "      <td>20.0</td>\n",
       "      <td>2386.393000</td>\n",
       "      <td>860.000000</td>\n",
       "    </tr>\n",
       "  </tbody>\n",
       "</table>\n",
       "</div>"
      ],
      "text/plain": [
       "         exitPrice  volume      turnover  commission  slippage          pnl  \\\n",
       "count    36.000000    36.0     36.000000   36.000000      36.0    36.000000   \n",
       "mean   3717.777778     1.0  74133.333333   22.240000      20.0   179.982222   \n",
       "std     232.130273     0.0   4555.145913    1.366544       0.0   579.812098   \n",
       "min    3150.000000     1.0  63070.000000   18.921000      20.0  -474.411000   \n",
       "25%    3621.250000     1.0  72455.000000   21.736500      20.0  -178.389500   \n",
       "50%    3742.500000     1.0  74595.000000   22.378500      20.0    47.014000   \n",
       "75%    3869.500000     1.0  77355.000000   23.206500      20.0   520.518250   \n",
       "max    4056.000000     1.0  81370.000000   24.411000      20.0  2386.393000   \n",
       "\n",
       "        posPeriod  \n",
       "count   36.000000  \n",
       "mean   176.933333  \n",
       "std    231.717449  \n",
       "min      4.600000  \n",
       "25%     44.750000  \n",
       "50%     88.100000  \n",
       "75%    239.600000  \n",
       "max    860.000000  "
      ]
     },
     "execution_count": 134,
     "metadata": {},
     "output_type": "execute_result"
    }
   ],
   "source": [
    "# 多头利润统计分析\n",
    "MultiCycleTestLong = MultiCycleTest[MultiCycleTest.volume ==1]\n",
    "MultiCycleTestLong.describe()"
   ]
  },
  {
   "cell_type": "code",
   "execution_count": 138,
   "metadata": {
    "collapsed": false
   },
   "outputs": [
    {
     "data": {
      "text/html": [
       "<div>\n",
       "<style>\n",
       "    .dataframe thead tr:only-child th {\n",
       "        text-align: right;\n",
       "    }\n",
       "\n",
       "    .dataframe thead th {\n",
       "        text-align: left;\n",
       "    }\n",
       "\n",
       "    .dataframe tbody tr th {\n",
       "        vertical-align: top;\n",
       "    }\n",
       "</style>\n",
       "<table border=\"1\" class=\"dataframe\">\n",
       "  <thead>\n",
       "    <tr style=\"text-align: right;\">\n",
       "      <th></th>\n",
       "      <th>exitPrice</th>\n",
       "      <th>volume</th>\n",
       "      <th>turnover</th>\n",
       "      <th>commission</th>\n",
       "      <th>slippage</th>\n",
       "      <th>pnl</th>\n",
       "      <th>posPeriod</th>\n",
       "    </tr>\n",
       "  </thead>\n",
       "  <tbody>\n",
       "    <tr>\n",
       "      <th>count</th>\n",
       "      <td>20.000000</td>\n",
       "      <td>20.0</td>\n",
       "      <td>20.000000</td>\n",
       "      <td>20.000000</td>\n",
       "      <td>20.0</td>\n",
       "      <td>20.000000</td>\n",
       "      <td>20.000000</td>\n",
       "    </tr>\n",
       "    <tr>\n",
       "      <th>mean</th>\n",
       "      <td>3770.150000</td>\n",
       "      <td>1.0</td>\n",
       "      <td>74848.000000</td>\n",
       "      <td>22.454400</td>\n",
       "      <td>20.0</td>\n",
       "      <td>512.545600</td>\n",
       "      <td>245.600000</td>\n",
       "    </tr>\n",
       "    <tr>\n",
       "      <th>std</th>\n",
       "      <td>196.088668</td>\n",
       "      <td>0.0</td>\n",
       "      <td>3873.626887</td>\n",
       "      <td>1.162088</td>\n",
       "      <td>0.0</td>\n",
       "      <td>583.714444</td>\n",
       "      <td>253.773243</td>\n",
       "    </tr>\n",
       "    <tr>\n",
       "      <th>min</th>\n",
       "      <td>3262.000000</td>\n",
       "      <td>1.0</td>\n",
       "      <td>64010.000000</td>\n",
       "      <td>19.203000</td>\n",
       "      <td>20.0</td>\n",
       "      <td>6.315000</td>\n",
       "      <td>4.600000</td>\n",
       "    </tr>\n",
       "    <tr>\n",
       "      <th>25%</th>\n",
       "      <td>3665.000000</td>\n",
       "      <td>1.0</td>\n",
       "      <td>72762.500000</td>\n",
       "      <td>21.828750</td>\n",
       "      <td>20.0</td>\n",
       "      <td>108.019000</td>\n",
       "      <td>84.600000</td>\n",
       "    </tr>\n",
       "    <tr>\n",
       "      <th>50%</th>\n",
       "      <td>3757.500000</td>\n",
       "      <td>1.0</td>\n",
       "      <td>74595.000000</td>\n",
       "      <td>22.378500</td>\n",
       "      <td>20.0</td>\n",
       "      <td>358.268000</td>\n",
       "      <td>102.400000</td>\n",
       "    </tr>\n",
       "    <tr>\n",
       "      <th>75%</th>\n",
       "      <td>3951.750000</td>\n",
       "      <td>1.0</td>\n",
       "      <td>78755.000000</td>\n",
       "      <td>23.626500</td>\n",
       "      <td>20.0</td>\n",
       "      <td>657.617000</td>\n",
       "      <td>284.950000</td>\n",
       "    </tr>\n",
       "    <tr>\n",
       "      <th>max</th>\n",
       "      <td>4056.000000</td>\n",
       "      <td>1.0</td>\n",
       "      <td>79720.000000</td>\n",
       "      <td>23.916000</td>\n",
       "      <td>20.0</td>\n",
       "      <td>2386.393000</td>\n",
       "      <td>860.000000</td>\n",
       "    </tr>\n",
       "  </tbody>\n",
       "</table>\n",
       "</div>"
      ],
      "text/plain": [
       "         exitPrice  volume      turnover  commission  slippage          pnl  \\\n",
       "count    20.000000    20.0     20.000000   20.000000      20.0    20.000000   \n",
       "mean   3770.150000     1.0  74848.000000   22.454400      20.0   512.545600   \n",
       "std     196.088668     0.0   3873.626887    1.162088       0.0   583.714444   \n",
       "min    3262.000000     1.0  64010.000000   19.203000      20.0     6.315000   \n",
       "25%    3665.000000     1.0  72762.500000   21.828750      20.0   108.019000   \n",
       "50%    3757.500000     1.0  74595.000000   22.378500      20.0   358.268000   \n",
       "75%    3951.750000     1.0  78755.000000   23.626500      20.0   657.617000   \n",
       "max    4056.000000     1.0  79720.000000   23.916000      20.0  2386.393000   \n",
       "\n",
       "        posPeriod  \n",
       "count   20.000000  \n",
       "mean   245.600000  \n",
       "std    253.773243  \n",
       "min      4.600000  \n",
       "25%     84.600000  \n",
       "50%    102.400000  \n",
       "75%    284.950000  \n",
       "max    860.000000  "
      ]
     },
     "execution_count": 138,
     "metadata": {},
     "output_type": "execute_result"
    }
   ],
   "source": [
    "MultiCycleTestLong[MultiCycleTestLong.pnl > 0].describe()"
   ]
  },
  {
   "cell_type": "code",
   "execution_count": 140,
   "metadata": {
    "collapsed": false
   },
   "outputs": [
    {
     "data": {
      "text/html": [
       "<div>\n",
       "<style>\n",
       "    .dataframe thead tr:only-child th {\n",
       "        text-align: right;\n",
       "    }\n",
       "\n",
       "    .dataframe thead th {\n",
       "        text-align: left;\n",
       "    }\n",
       "\n",
       "    .dataframe tbody tr th {\n",
       "        vertical-align: top;\n",
       "    }\n",
       "</style>\n",
       "<table border=\"1\" class=\"dataframe\">\n",
       "  <thead>\n",
       "    <tr style=\"text-align: right;\">\n",
       "      <th></th>\n",
       "      <th>exitPrice</th>\n",
       "      <th>volume</th>\n",
       "      <th>turnover</th>\n",
       "      <th>commission</th>\n",
       "      <th>slippage</th>\n",
       "      <th>pnl</th>\n",
       "      <th>posPeriod</th>\n",
       "    </tr>\n",
       "  </thead>\n",
       "  <tbody>\n",
       "    <tr>\n",
       "      <th>count</th>\n",
       "      <td>16.000000</td>\n",
       "      <td>16.0</td>\n",
       "      <td>16.000000</td>\n",
       "      <td>16.000000</td>\n",
       "      <td>16.0</td>\n",
       "      <td>16.00000</td>\n",
       "      <td>16.000000</td>\n",
       "    </tr>\n",
       "    <tr>\n",
       "      <th>mean</th>\n",
       "      <td>3652.312500</td>\n",
       "      <td>1.0</td>\n",
       "      <td>73240.000000</td>\n",
       "      <td>21.972000</td>\n",
       "      <td>20.0</td>\n",
       "      <td>-235.72200</td>\n",
       "      <td>91.100000</td>\n",
       "    </tr>\n",
       "    <tr>\n",
       "      <th>std</th>\n",
       "      <td>262.292894</td>\n",
       "      <td>0.0</td>\n",
       "      <td>5279.829543</td>\n",
       "      <td>1.583949</td>\n",
       "      <td>0.0</td>\n",
       "      <td>145.07835</td>\n",
       "      <td>171.941432</td>\n",
       "    </tr>\n",
       "    <tr>\n",
       "      <th>min</th>\n",
       "      <td>3150.000000</td>\n",
       "      <td>1.0</td>\n",
       "      <td>63070.000000</td>\n",
       "      <td>18.921000</td>\n",
       "      <td>20.0</td>\n",
       "      <td>-474.41100</td>\n",
       "      <td>4.600000</td>\n",
       "    </tr>\n",
       "    <tr>\n",
       "      <th>25%</th>\n",
       "      <td>3520.250000</td>\n",
       "      <td>1.0</td>\n",
       "      <td>70695.000000</td>\n",
       "      <td>21.208500</td>\n",
       "      <td>20.0</td>\n",
       "      <td>-372.03350</td>\n",
       "      <td>17.750000</td>\n",
       "    </tr>\n",
       "    <tr>\n",
       "      <th>50%</th>\n",
       "      <td>3689.500000</td>\n",
       "      <td>1.0</td>\n",
       "      <td>74065.000000</td>\n",
       "      <td>22.219500</td>\n",
       "      <td>20.0</td>\n",
       "      <td>-207.83150</td>\n",
       "      <td>48.300000</td>\n",
       "    </tr>\n",
       "    <tr>\n",
       "      <th>75%</th>\n",
       "      <td>3806.000000</td>\n",
       "      <td>1.0</td>\n",
       "      <td>76427.500000</td>\n",
       "      <td>22.928250</td>\n",
       "      <td>20.0</td>\n",
       "      <td>-139.66350</td>\n",
       "      <td>78.600000</td>\n",
       "    </tr>\n",
       "    <tr>\n",
       "      <th>max</th>\n",
       "      <td>4047.000000</td>\n",
       "      <td>1.0</td>\n",
       "      <td>81370.000000</td>\n",
       "      <td>24.411000</td>\n",
       "      <td>20.0</td>\n",
       "      <td>-30.15100</td>\n",
       "      <td>719.400000</td>\n",
       "    </tr>\n",
       "  </tbody>\n",
       "</table>\n",
       "</div>"
      ],
      "text/plain": [
       "         exitPrice  volume      turnover  commission  slippage        pnl  \\\n",
       "count    16.000000    16.0     16.000000   16.000000      16.0   16.00000   \n",
       "mean   3652.312500     1.0  73240.000000   21.972000      20.0 -235.72200   \n",
       "std     262.292894     0.0   5279.829543    1.583949       0.0  145.07835   \n",
       "min    3150.000000     1.0  63070.000000   18.921000      20.0 -474.41100   \n",
       "25%    3520.250000     1.0  70695.000000   21.208500      20.0 -372.03350   \n",
       "50%    3689.500000     1.0  74065.000000   22.219500      20.0 -207.83150   \n",
       "75%    3806.000000     1.0  76427.500000   22.928250      20.0 -139.66350   \n",
       "max    4047.000000     1.0  81370.000000   24.411000      20.0  -30.15100   \n",
       "\n",
       "        posPeriod  \n",
       "count   16.000000  \n",
       "mean    91.100000  \n",
       "std    171.941432  \n",
       "min      4.600000  \n",
       "25%     17.750000  \n",
       "50%     48.300000  \n",
       "75%     78.600000  \n",
       "max    719.400000  "
      ]
     },
     "execution_count": 140,
     "metadata": {},
     "output_type": "execute_result"
    }
   ],
   "source": [
    "MultiCycleTestLong[MultiCycleTestLong.pnl < 0].describe()"
   ]
  },
  {
   "cell_type": "code",
   "execution_count": 123,
   "metadata": {
    "collapsed": false
   },
   "outputs": [
    {
     "data": {
      "text/html": [
       "<div>\n",
       "<style>\n",
       "    .dataframe thead tr:only-child th {\n",
       "        text-align: right;\n",
       "    }\n",
       "\n",
       "    .dataframe thead th {\n",
       "        text-align: left;\n",
       "    }\n",
       "\n",
       "    .dataframe tbody tr th {\n",
       "        vertical-align: top;\n",
       "    }\n",
       "</style>\n",
       "<table border=\"1\" class=\"dataframe\">\n",
       "  <thead>\n",
       "    <tr style=\"text-align: right;\">\n",
       "      <th></th>\n",
       "      <th>exitPrice</th>\n",
       "      <th>volume</th>\n",
       "      <th>turnover</th>\n",
       "      <th>commission</th>\n",
       "      <th>slippage</th>\n",
       "      <th>pnl</th>\n",
       "      <th>posPeriod</th>\n",
       "    </tr>\n",
       "  </thead>\n",
       "  <tbody>\n",
       "    <tr>\n",
       "      <th>count</th>\n",
       "      <td>30.000000</td>\n",
       "      <td>30.0</td>\n",
       "      <td>30.000000</td>\n",
       "      <td>30.000000</td>\n",
       "      <td>30.0</td>\n",
       "      <td>30.000000</td>\n",
       "      <td>30.000000</td>\n",
       "    </tr>\n",
       "    <tr>\n",
       "      <th>mean</th>\n",
       "      <td>3693.833333</td>\n",
       "      <td>-1.0</td>\n",
       "      <td>73829.333333</td>\n",
       "      <td>22.148800</td>\n",
       "      <td>20.0</td>\n",
       "      <td>-89.482133</td>\n",
       "      <td>67.393333</td>\n",
       "    </tr>\n",
       "    <tr>\n",
       "      <th>std</th>\n",
       "      <td>238.669022</td>\n",
       "      <td>0.0</td>\n",
       "      <td>4726.193287</td>\n",
       "      <td>1.417858</td>\n",
       "      <td>0.0</td>\n",
       "      <td>278.695858</td>\n",
       "      <td>57.781431</td>\n",
       "    </tr>\n",
       "    <tr>\n",
       "      <th>min</th>\n",
       "      <td>2962.000000</td>\n",
       "      <td>-1.0</td>\n",
       "      <td>59470.000000</td>\n",
       "      <td>17.841000</td>\n",
       "      <td>20.0</td>\n",
       "      <td>-433.409000</td>\n",
       "      <td>2.400000</td>\n",
       "    </tr>\n",
       "    <tr>\n",
       "      <th>25%</th>\n",
       "      <td>3606.250000</td>\n",
       "      <td>-1.0</td>\n",
       "      <td>71920.000000</td>\n",
       "      <td>21.576000</td>\n",
       "      <td>20.0</td>\n",
       "      <td>-341.516250</td>\n",
       "      <td>15.850000</td>\n",
       "    </tr>\n",
       "    <tr>\n",
       "      <th>50%</th>\n",
       "      <td>3718.000000</td>\n",
       "      <td>-1.0</td>\n",
       "      <td>74230.000000</td>\n",
       "      <td>22.269000</td>\n",
       "      <td>20.0</td>\n",
       "      <td>-106.793500</td>\n",
       "      <td>65.500000</td>\n",
       "    </tr>\n",
       "    <tr>\n",
       "      <th>75%</th>\n",
       "      <td>3858.500000</td>\n",
       "      <td>-1.0</td>\n",
       "      <td>76935.000000</td>\n",
       "      <td>23.080500</td>\n",
       "      <td>20.0</td>\n",
       "      <td>100.752250</td>\n",
       "      <td>105.900000</td>\n",
       "    </tr>\n",
       "    <tr>\n",
       "      <th>max</th>\n",
       "      <td>4084.000000</td>\n",
       "      <td>-1.0</td>\n",
       "      <td>81410.000000</td>\n",
       "      <td>24.423000</td>\n",
       "      <td>20.0</td>\n",
       "      <td>538.022000</td>\n",
       "      <td>234.400000</td>\n",
       "    </tr>\n",
       "  </tbody>\n",
       "</table>\n",
       "</div>"
      ],
      "text/plain": [
       "         exitPrice  volume      turnover  commission  slippage         pnl  \\\n",
       "count    30.000000    30.0     30.000000   30.000000      30.0   30.000000   \n",
       "mean   3693.833333    -1.0  73829.333333   22.148800      20.0  -89.482133   \n",
       "std     238.669022     0.0   4726.193287    1.417858       0.0  278.695858   \n",
       "min    2962.000000    -1.0  59470.000000   17.841000      20.0 -433.409000   \n",
       "25%    3606.250000    -1.0  71920.000000   21.576000      20.0 -341.516250   \n",
       "50%    3718.000000    -1.0  74230.000000   22.269000      20.0 -106.793500   \n",
       "75%    3858.500000    -1.0  76935.000000   23.080500      20.0  100.752250   \n",
       "max    4084.000000    -1.0  81410.000000   24.423000      20.0  538.022000   \n",
       "\n",
       "        posPeriod  \n",
       "count   30.000000  \n",
       "mean    67.393333  \n",
       "std     57.781431  \n",
       "min      2.400000  \n",
       "25%     15.850000  \n",
       "50%     65.500000  \n",
       "75%    105.900000  \n",
       "max    234.400000  "
      ]
     },
     "execution_count": 123,
     "metadata": {},
     "output_type": "execute_result"
    }
   ],
   "source": [
    "# 空头利润统计分析\n",
    "MultiCycleTestShort= MultiCycleTest[MultiCycleTest.volume ==-1]\n",
    "MultiCycleTestShort.describe()"
   ]
  },
  {
   "cell_type": "code",
   "execution_count": 127,
   "metadata": {
    "collapsed": false,
    "deletable": true,
    "editable": true
   },
   "outputs": [
    {
     "data": {
      "text/html": [
       "<div>\n",
       "<style>\n",
       "    .dataframe thead tr:only-child th {\n",
       "        text-align: right;\n",
       "    }\n",
       "\n",
       "    .dataframe thead th {\n",
       "        text-align: left;\n",
       "    }\n",
       "\n",
       "    .dataframe tbody tr th {\n",
       "        vertical-align: top;\n",
       "    }\n",
       "</style>\n",
       "<table border=\"1\" class=\"dataframe\">\n",
       "  <thead>\n",
       "    <tr style=\"text-align: right;\">\n",
       "      <th></th>\n",
       "      <th>exitPrice</th>\n",
       "      <th>volume</th>\n",
       "      <th>turnover</th>\n",
       "      <th>commission</th>\n",
       "      <th>slippage</th>\n",
       "      <th>pnl</th>\n",
       "      <th>posPeriod</th>\n",
       "    </tr>\n",
       "  </thead>\n",
       "  <tbody>\n",
       "    <tr>\n",
       "      <th>count</th>\n",
       "      <td>9.000000</td>\n",
       "      <td>9.0</td>\n",
       "      <td>9.000000</td>\n",
       "      <td>9.000000</td>\n",
       "      <td>9.0</td>\n",
       "      <td>9.000000</td>\n",
       "      <td>9.000000</td>\n",
       "    </tr>\n",
       "    <tr>\n",
       "      <th>mean</th>\n",
       "      <td>3627.888889</td>\n",
       "      <td>-1.0</td>\n",
       "      <td>72856.666667</td>\n",
       "      <td>21.857000</td>\n",
       "      <td>20.0</td>\n",
       "      <td>257.031889</td>\n",
       "      <td>119.933333</td>\n",
       "    </tr>\n",
       "    <tr>\n",
       "      <th>std</th>\n",
       "      <td>281.985569</td>\n",
       "      <td>0.0</td>\n",
       "      <td>5661.384548</td>\n",
       "      <td>1.698415</td>\n",
       "      <td>0.0</td>\n",
       "      <td>184.269655</td>\n",
       "      <td>49.216054</td>\n",
       "    </tr>\n",
       "    <tr>\n",
       "      <th>min</th>\n",
       "      <td>2962.000000</td>\n",
       "      <td>-1.0</td>\n",
       "      <td>59470.000000</td>\n",
       "      <td>17.841000</td>\n",
       "      <td>20.0</td>\n",
       "      <td>17.494000</td>\n",
       "      <td>53.000000</td>\n",
       "    </tr>\n",
       "    <tr>\n",
       "      <th>25%</th>\n",
       "      <td>3574.000000</td>\n",
       "      <td>-1.0</td>\n",
       "      <td>71650.000000</td>\n",
       "      <td>21.495000</td>\n",
       "      <td>20.0</td>\n",
       "      <td>137.440000</td>\n",
       "      <td>96.600000</td>\n",
       "    </tr>\n",
       "    <tr>\n",
       "      <th>50%</th>\n",
       "      <td>3634.000000</td>\n",
       "      <td>-1.0</td>\n",
       "      <td>73260.000000</td>\n",
       "      <td>21.978000</td>\n",
       "      <td>20.0</td>\n",
       "      <td>192.159000</td>\n",
       "      <td>112.200000</td>\n",
       "    </tr>\n",
       "    <tr>\n",
       "      <th>75%</th>\n",
       "      <td>3751.000000</td>\n",
       "      <td>-1.0</td>\n",
       "      <td>75200.000000</td>\n",
       "      <td>22.560000</td>\n",
       "      <td>20.0</td>\n",
       "      <td>406.393000</td>\n",
       "      <td>127.600000</td>\n",
       "    </tr>\n",
       "    <tr>\n",
       "      <th>max</th>\n",
       "      <td>3912.000000</td>\n",
       "      <td>-1.0</td>\n",
       "      <td>78690.000000</td>\n",
       "      <td>23.607000</td>\n",
       "      <td>20.0</td>\n",
       "      <td>538.022000</td>\n",
       "      <td>234.400000</td>\n",
       "    </tr>\n",
       "  </tbody>\n",
       "</table>\n",
       "</div>"
      ],
      "text/plain": [
       "         exitPrice  volume      turnover  commission  slippage         pnl  \\\n",
       "count     9.000000     9.0      9.000000    9.000000       9.0    9.000000   \n",
       "mean   3627.888889    -1.0  72856.666667   21.857000      20.0  257.031889   \n",
       "std     281.985569     0.0   5661.384548    1.698415       0.0  184.269655   \n",
       "min    2962.000000    -1.0  59470.000000   17.841000      20.0   17.494000   \n",
       "25%    3574.000000    -1.0  71650.000000   21.495000      20.0  137.440000   \n",
       "50%    3634.000000    -1.0  73260.000000   21.978000      20.0  192.159000   \n",
       "75%    3751.000000    -1.0  75200.000000   22.560000      20.0  406.393000   \n",
       "max    3912.000000    -1.0  78690.000000   23.607000      20.0  538.022000   \n",
       "\n",
       "        posPeriod  \n",
       "count    9.000000  \n",
       "mean   119.933333  \n",
       "std     49.216054  \n",
       "min     53.000000  \n",
       "25%     96.600000  \n",
       "50%    112.200000  \n",
       "75%    127.600000  \n",
       "max    234.400000  "
      ]
     },
     "execution_count": 127,
     "metadata": {},
     "output_type": "execute_result"
    }
   ],
   "source": [
    "MultiCycleTestShort[MultiCycleTestShort.pnl>0].describe()"
   ]
  },
  {
   "cell_type": "code",
   "execution_count": 128,
   "metadata": {
    "collapsed": false,
    "deletable": true,
    "editable": true
   },
   "outputs": [
    {
     "data": {
      "text/html": [
       "<div>\n",
       "<style>\n",
       "    .dataframe thead tr:only-child th {\n",
       "        text-align: right;\n",
       "    }\n",
       "\n",
       "    .dataframe thead th {\n",
       "        text-align: left;\n",
       "    }\n",
       "\n",
       "    .dataframe tbody tr th {\n",
       "        vertical-align: top;\n",
       "    }\n",
       "</style>\n",
       "<table border=\"1\" class=\"dataframe\">\n",
       "  <thead>\n",
       "    <tr style=\"text-align: right;\">\n",
       "      <th></th>\n",
       "      <th>exitPrice</th>\n",
       "      <th>volume</th>\n",
       "      <th>turnover</th>\n",
       "      <th>commission</th>\n",
       "      <th>slippage</th>\n",
       "      <th>pnl</th>\n",
       "      <th>posPeriod</th>\n",
       "    </tr>\n",
       "  </thead>\n",
       "  <tbody>\n",
       "    <tr>\n",
       "      <th>count</th>\n",
       "      <td>21.000000</td>\n",
       "      <td>21.0</td>\n",
       "      <td>21.000000</td>\n",
       "      <td>21.000000</td>\n",
       "      <td>21.0</td>\n",
       "      <td>21.000000</td>\n",
       "      <td>21.000000</td>\n",
       "    </tr>\n",
       "    <tr>\n",
       "      <th>mean</th>\n",
       "      <td>3722.095238</td>\n",
       "      <td>-1.0</td>\n",
       "      <td>74246.190476</td>\n",
       "      <td>22.273857</td>\n",
       "      <td>20.0</td>\n",
       "      <td>-237.988143</td>\n",
       "      <td>44.876190</td>\n",
       "    </tr>\n",
       "    <tr>\n",
       "      <th>std</th>\n",
       "      <td>219.075992</td>\n",
       "      <td>0.0</td>\n",
       "      <td>4354.285792</td>\n",
       "      <td>1.306286</td>\n",
       "      <td>0.0</td>\n",
       "      <td>147.825094</td>\n",
       "      <td>45.800021</td>\n",
       "    </tr>\n",
       "    <tr>\n",
       "      <th>min</th>\n",
       "      <td>3035.000000</td>\n",
       "      <td>-1.0</td>\n",
       "      <td>60390.000000</td>\n",
       "      <td>18.117000</td>\n",
       "      <td>20.0</td>\n",
       "      <td>-433.409000</td>\n",
       "      <td>2.400000</td>\n",
       "    </tr>\n",
       "    <tr>\n",
       "      <th>25%</th>\n",
       "      <td>3610.000000</td>\n",
       "      <td>-1.0</td>\n",
       "      <td>72010.000000</td>\n",
       "      <td>21.603000</td>\n",
       "      <td>20.0</td>\n",
       "      <td>-363.076000</td>\n",
       "      <td>8.000000</td>\n",
       "    </tr>\n",
       "    <tr>\n",
       "      <th>50%</th>\n",
       "      <td>3720.000000</td>\n",
       "      <td>-1.0</td>\n",
       "      <td>74250.000000</td>\n",
       "      <td>22.275000</td>\n",
       "      <td>20.0</td>\n",
       "      <td>-302.344000</td>\n",
       "      <td>18.800000</td>\n",
       "    </tr>\n",
       "    <tr>\n",
       "      <th>75%</th>\n",
       "      <td>3862.000000</td>\n",
       "      <td>-1.0</td>\n",
       "      <td>76940.000000</td>\n",
       "      <td>23.082000</td>\n",
       "      <td>20.0</td>\n",
       "      <td>-101.948000</td>\n",
       "      <td>79.000000</td>\n",
       "    </tr>\n",
       "    <tr>\n",
       "      <th>max</th>\n",
       "      <td>4084.000000</td>\n",
       "      <td>-1.0</td>\n",
       "      <td>81410.000000</td>\n",
       "      <td>24.423000</td>\n",
       "      <td>20.0</td>\n",
       "      <td>-1.270000</td>\n",
       "      <td>155.600000</td>\n",
       "    </tr>\n",
       "  </tbody>\n",
       "</table>\n",
       "</div>"
      ],
      "text/plain": [
       "         exitPrice  volume      turnover  commission  slippage         pnl  \\\n",
       "count    21.000000    21.0     21.000000   21.000000      21.0   21.000000   \n",
       "mean   3722.095238    -1.0  74246.190476   22.273857      20.0 -237.988143   \n",
       "std     219.075992     0.0   4354.285792    1.306286       0.0  147.825094   \n",
       "min    3035.000000    -1.0  60390.000000   18.117000      20.0 -433.409000   \n",
       "25%    3610.000000    -1.0  72010.000000   21.603000      20.0 -363.076000   \n",
       "50%    3720.000000    -1.0  74250.000000   22.275000      20.0 -302.344000   \n",
       "75%    3862.000000    -1.0  76940.000000   23.082000      20.0 -101.948000   \n",
       "max    4084.000000    -1.0  81410.000000   24.423000      20.0   -1.270000   \n",
       "\n",
       "        posPeriod  \n",
       "count   21.000000  \n",
       "mean    44.876190  \n",
       "std     45.800021  \n",
       "min      2.400000  \n",
       "25%      8.000000  \n",
       "50%     18.800000  \n",
       "75%     79.000000  \n",
       "max    155.600000  "
      ]
     },
     "execution_count": 128,
     "metadata": {},
     "output_type": "execute_result"
    }
   ],
   "source": [
    "MultiCycleTestShort[MultiCycleTestShort.pnl<0].describe()"
   ]
  },
  {
   "cell_type": "code",
   "execution_count": 93,
   "metadata": {
    "collapsed": false,
    "deletable": true,
    "editable": true
   },
   "outputs": [
    {
     "data": {
      "text/plain": [
       "count    10000.000000\n",
       "mean         0.569243\n",
       "std          0.260137\n",
       "min          0.003496\n",
       "25%          0.359017\n",
       "50%          0.582893\n",
       "75%          0.790181\n",
       "max          0.999990\n",
       "dtype: float64"
      ]
     },
     "execution_count": 93,
     "metadata": {},
     "output_type": "execute_result"
    }
   ],
   "source": [
    "pValueList = []\n",
    "for i in xrange(10000):\n",
    "    pValueList.append(stats.ttest_rel(np.random.choice(kkTrain.pnl.values,min(kkTest.shape[0],kkTrain.shape[0])), kkTest.pnl.values).pvalue)   \n",
    "pValueSeries = pd.Series(pValueList)\n",
    "pValueSeries.describe()"
   ]
  },
  {
   "cell_type": "code",
   "execution_count": 94,
   "metadata": {
    "collapsed": false
   },
   "outputs": [],
   "source": [
    "PValue = varDiff(kkTrain,kkTest)"
   ]
  },
  {
   "cell_type": "code",
   "execution_count": 95,
   "metadata": {
    "collapsed": false
   },
   "outputs": [
    {
     "data": {
      "text/plain": [
       "count    10000.000000\n",
       "mean         0.568433\n",
       "std          0.261260\n",
       "min          0.009622\n",
       "25%          0.355666\n",
       "50%          0.581790\n",
       "75%          0.791658\n",
       "max          0.999952\n",
       "dtype: float64"
      ]
     },
     "execution_count": 95,
     "metadata": {},
     "output_type": "execute_result"
    }
   ],
   "source": [
    "PValue.describe()"
   ]
  },
  {
   "cell_type": "code",
   "execution_count": null,
   "metadata": {
    "collapsed": false
   },
   "outputs": [],
   "source": []
  },
  {
   "cell_type": "code",
   "execution_count": 96,
   "metadata": {
    "collapsed": false
   },
   "outputs": [
    {
     "data": {
      "text/plain": [
       "0.0068"
      ]
     },
     "execution_count": 96,
     "metadata": {},
     "output_type": "execute_result"
    }
   ],
   "source": [
    "pValueSeries[pValueSeries <= 0.05].shape[0] / pValueSeries.shape[0]"
   ]
  },
  {
   "cell_type": "code",
   "execution_count": 97,
   "metadata": {
    "collapsed": false,
    "deletable": true,
    "editable": true
   },
   "outputs": [
    {
     "data": {
      "text/plain": [
       "0.13459499876408176"
      ]
     },
     "execution_count": 97,
     "metadata": {},
     "output_type": "execute_result"
    }
   ],
   "source": [
    "pValueSeries.quantile(0.05)"
   ]
  },
  {
   "cell_type": "code",
   "execution_count": 98,
   "metadata": {
    "collapsed": false,
    "deletable": true,
    "editable": true
   },
   "outputs": [],
   "source": [
    "# 根据pValue的均值和中位数以及5%的分位数可以看出 P-Value是大概率远大于0.05的，所以接受原假设，及两组PNL方差相同，收益稳定。"
   ]
  },
  {
   "cell_type": "code",
   "execution_count": null,
   "metadata": {
    "collapsed": true,
    "deletable": true,
    "editable": true
   },
   "outputs": [],
   "source": []
  },
  {
   "cell_type": "code",
   "execution_count": null,
   "metadata": {
    "collapsed": true,
    "deletable": true,
    "editable": true
   },
   "outputs": [],
   "source": []
  },
  {
   "cell_type": "code",
   "execution_count": null,
   "metadata": {
    "collapsed": false,
    "deletable": true,
    "editable": true
   },
   "outputs": [],
   "source": []
  },
  {
   "cell_type": "code",
   "execution_count": null,
   "metadata": {
    "collapsed": true
   },
   "outputs": [],
   "source": []
  }
 ],
 "metadata": {
  "kernelspec": {
   "display_name": "Python 2",
   "language": "python",
   "name": "python2"
  },
  "language_info": {
   "codemirror_mode": {
    "name": "ipython",
    "version": 2
   },
   "file_extension": ".py",
   "mimetype": "text/x-python",
   "name": "python",
   "nbconvert_exporter": "python",
   "pygments_lexer": "ipython2",
   "version": "2.7.12"
  }
 },
 "nbformat": 4,
 "nbformat_minor": 2
}
